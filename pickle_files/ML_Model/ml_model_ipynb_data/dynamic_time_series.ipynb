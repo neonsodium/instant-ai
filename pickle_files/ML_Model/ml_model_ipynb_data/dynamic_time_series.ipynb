{
 "cells": [
  {
   "cell_type": "code",
   "execution_count": 1,
   "id": "99632d54",
   "metadata": {},
   "outputs": [
    {
     "ename": "ModuleNotFoundError",
     "evalue": "No module named 'prophet'",
     "output_type": "error",
     "traceback": [
      "\u001b[0;31m---------------------------------------------------------------------------\u001b[0m",
      "\u001b[0;31mModuleNotFoundError\u001b[0m                       Traceback (most recent call last)",
      "Cell \u001b[0;32mIn[1], line 6\u001b[0m\n\u001b[1;32m      4\u001b[0m \u001b[38;5;28;01mimport\u001b[39;00m \u001b[38;5;21;01mmatplotlib\u001b[39;00m\u001b[38;5;21;01m.\u001b[39;00m\u001b[38;5;21;01mpyplot\u001b[39;00m \u001b[38;5;28;01mas\u001b[39;00m \u001b[38;5;21;01mplt\u001b[39;00m\n\u001b[1;32m      5\u001b[0m \u001b[38;5;28;01mfrom\u001b[39;00m \u001b[38;5;21;01msklearn\u001b[39;00m\u001b[38;5;21;01m.\u001b[39;00m\u001b[38;5;21;01mpreprocessing\u001b[39;00m \u001b[38;5;28;01mimport\u001b[39;00m LabelEncoder\n\u001b[0;32m----> 6\u001b[0m \u001b[38;5;28;01mfrom\u001b[39;00m \u001b[38;5;21;01mprophet\u001b[39;00m \u001b[38;5;28;01mimport\u001b[39;00m Prophet\n\u001b[1;32m      7\u001b[0m \u001b[38;5;28;01mfrom\u001b[39;00m \u001b[38;5;21;01msklearn\u001b[39;00m\u001b[38;5;21;01m.\u001b[39;00m\u001b[38;5;21;01mmetrics\u001b[39;00m \u001b[38;5;28;01mimport\u001b[39;00m mean_absolute_error\n",
      "\u001b[0;31mModuleNotFoundError\u001b[0m: No module named 'prophet'"
     ]
    }
   ],
   "source": [
    "import numpy as np \n",
    "import pandas as pd\n",
    "from sklearn.model_selection import train_test_split\n",
    "import matplotlib.pyplot as plt\n",
    "from sklearn.preprocessing import LabelEncoder\n",
    "from prophet import Prophet\n",
    "from sklearn.metrics import mean_absolute_error"
   ]
  },
  {
   "cell_type": "code",
   "execution_count": 2,
   "id": "2d8b9f14",
   "metadata": {},
   "outputs": [],
   "source": [
    "df=pd.read_csv('JB_DATA.csv')"
   ]
  },
  {
   "cell_type": "code",
   "execution_count": 3,
   "id": "3355e697",
   "metadata": {},
   "outputs": [],
   "source": [
    "pd.set_option('display.max_rows', None)  \n",
    "pd.set_option('display.max_columns', None) "
   ]
  },
  {
   "cell_type": "code",
   "execution_count": 4,
   "id": "19b49c8d",
   "metadata": {},
   "outputs": [
    {
     "data": {
      "text/html": [
       "<div>\n",
       "<style scoped>\n",
       "    .dataframe tbody tr th:only-of-type {\n",
       "        vertical-align: middle;\n",
       "    }\n",
       "\n",
       "    .dataframe tbody tr th {\n",
       "        vertical-align: top;\n",
       "    }\n",
       "\n",
       "    .dataframe thead th {\n",
       "        text-align: right;\n",
       "    }\n",
       "</style>\n",
       "<table border=\"1\" class=\"dataframe\">\n",
       "  <thead>\n",
       "    <tr style=\"text-align: right;\">\n",
       "      <th></th>\n",
       "      <th># created_date</th>\n",
       "      <th>id</th>\n",
       "      <th>created_by</th>\n",
       "      <th>created_name</th>\n",
       "      <th>transaction_branch_id</th>\n",
       "      <th>branch_name</th>\n",
       "      <th>branch_email</th>\n",
       "      <th>branch_type</th>\n",
       "      <th>transaction_type_id</th>\n",
       "      <th>member_card</th>\n",
       "      <th>Member_Name</th>\n",
       "      <th>email</th>\n",
       "      <th>Number_of_Months</th>\n",
       "      <th>transaction_date</th>\n",
       "      <th>amount_paid</th>\n",
       "      <th>Coupon_Discount</th>\n",
       "      <th>magazine_fee_paid</th>\n",
       "      <th>payable_amount</th>\n",
       "      <th>reading_fee_paid</th>\n",
       "      <th>reversed</th>\n",
       "      <th>over_due_adjustment_amount</th>\n",
       "      <th>last_card_number</th>\n",
       "      <th>display_name</th>\n",
       "      <th>primus_amount</th>\n",
       "      <th>adjustment_amount</th>\n",
       "      <th>security_deposit</th>\n",
       "      <th>Percentage_Share</th>\n",
       "      <th>subscription_id</th>\n",
       "      <th>member_branch_id</th>\n",
       "      <th>transaction</th>\n",
       "      <th>Transaction_Month</th>\n",
       "      <th>Transaction_Year</th>\n",
       "      <th>Month_Last_Date</th>\n",
       "      <th>TAX_TYPE</th>\n",
       "      <th>Renewal_Amount</th>\n",
       "      <th>taxable_amount</th>\n",
       "      <th>TAX_AMOUNT</th>\n",
       "      <th>GST_AMOUNT</th>\n",
       "      <th>SGST_AMOUNT</th>\n",
       "      <th>CGST_AMOUNT</th>\n",
       "      <th>IGST_AMOUNT</th>\n",
       "      <th>Message_Status</th>\n",
       "      <th>Membership_expiry_date</th>\n",
       "      <th>TAX_STATE</th>\n",
       "      <th>User_Name</th>\n",
       "    </tr>\n",
       "  </thead>\n",
       "  <tbody>\n",
       "    <tr>\n",
       "      <th>0</th>\n",
       "      <td>06-07-2024</td>\n",
       "      <td>41571158</td>\n",
       "      <td>39977</td>\n",
       "      <td>FRONTOFFICE ELC</td>\n",
       "      <td>131</td>\n",
       "      <td>Electronic City Phase 1</td>\n",
       "      <td>frontoffice@elc1.justbooksclc.com</td>\n",
       "      <td>Active User Branch</td>\n",
       "      <td>4</td>\n",
       "      <td>M227544</td>\n",
       "      <td>Deep</td>\n",
       "      <td>ca.deepdhorda@gmail.com</td>\n",
       "      <td>1</td>\n",
       "      <td>06-07-2024</td>\n",
       "      <td>118</td>\n",
       "      <td>0.0</td>\n",
       "      <td>0.0</td>\n",
       "      <td>118</td>\n",
       "      <td>0.0</td>\n",
       "      <td>0</td>\n",
       "      <td>0</td>\n",
       "      <td>NaN</td>\n",
       "      <td>Default package</td>\n",
       "      <td>0</td>\n",
       "      <td>0</td>\n",
       "      <td>0</td>\n",
       "      <td>30</td>\n",
       "      <td>40019446</td>\n",
       "      <td>131</td>\n",
       "      <td>Others</td>\n",
       "      <td>7</td>\n",
       "      <td>2024</td>\n",
       "      <td>31-07-2024</td>\n",
       "      <td>GST</td>\n",
       "      <td>205</td>\n",
       "      <td>100</td>\n",
       "      <td>18.00</td>\n",
       "      <td>18.00</td>\n",
       "      <td>9.00</td>\n",
       "      <td>9.00</td>\n",
       "      <td>0.0</td>\n",
       "      <td>0</td>\n",
       "      <td>17-09-2024</td>\n",
       "      <td>KARNATAKA</td>\n",
       "      <td>avinashmodaliyar1</td>\n",
       "    </tr>\n",
       "    <tr>\n",
       "      <th>1</th>\n",
       "      <td>06-07-2024</td>\n",
       "      <td>41571159</td>\n",
       "      <td>10127</td>\n",
       "      <td>FRONTOFFICE VBL</td>\n",
       "      <td>26</td>\n",
       "      <td>Vijaya Bank Layout</td>\n",
       "      <td>sreejaya.shenoy@vij.justbooksclc.com</td>\n",
       "      <td>Profit share</td>\n",
       "      <td>2</td>\n",
       "      <td>M177663</td>\n",
       "      <td>NARENDRAN</td>\n",
       "      <td>diva_dos@yahoo.com</td>\n",
       "      <td>1</td>\n",
       "      <td>06-07-2024</td>\n",
       "      <td>354</td>\n",
       "      <td>0.0</td>\n",
       "      <td>0.0</td>\n",
       "      <td>354</td>\n",
       "      <td>354.0</td>\n",
       "      <td>0</td>\n",
       "      <td>0</td>\n",
       "      <td>9425.0</td>\n",
       "      <td>Default package</td>\n",
       "      <td>0</td>\n",
       "      <td>0</td>\n",
       "      <td>0</td>\n",
       "      <td>50</td>\n",
       "      <td>1292928</td>\n",
       "      <td>26</td>\n",
       "      <td>Renewal</td>\n",
       "      <td>7</td>\n",
       "      <td>2024</td>\n",
       "      <td>31-07-2024</td>\n",
       "      <td>GST</td>\n",
       "      <td>205</td>\n",
       "      <td>300</td>\n",
       "      <td>54.00</td>\n",
       "      <td>54.00</td>\n",
       "      <td>27.00</td>\n",
       "      <td>27.00</td>\n",
       "      <td>0.0</td>\n",
       "      <td>0</td>\n",
       "      <td>06-08-2024</td>\n",
       "      <td>KARNATAKA</td>\n",
       "      <td>blrdrmembers</td>\n",
       "    </tr>\n",
       "    <tr>\n",
       "      <th>2</th>\n",
       "      <td>06-07-2024</td>\n",
       "      <td>41571160</td>\n",
       "      <td>39977</td>\n",
       "      <td>FRONTOFFICE ELC</td>\n",
       "      <td>131</td>\n",
       "      <td>Electronic City Phase 1</td>\n",
       "      <td>frontoffice@elc1.justbooksclc.com</td>\n",
       "      <td>Active User Branch</td>\n",
       "      <td>2</td>\n",
       "      <td>M200974</td>\n",
       "      <td>RUDRA ACHARYA</td>\n",
       "      <td>rudraach@gmail.com</td>\n",
       "      <td>12</td>\n",
       "      <td>06-07-2024</td>\n",
       "      <td>4531</td>\n",
       "      <td>1132.8</td>\n",
       "      <td>0.0</td>\n",
       "      <td>4531</td>\n",
       "      <td>4531.2</td>\n",
       "      <td>0</td>\n",
       "      <td>0</td>\n",
       "      <td>NaN</td>\n",
       "      <td>Default package</td>\n",
       "      <td>0</td>\n",
       "      <td>0</td>\n",
       "      <td>0</td>\n",
       "      <td>30</td>\n",
       "      <td>1793454</td>\n",
       "      <td>131</td>\n",
       "      <td>Renewal</td>\n",
       "      <td>7</td>\n",
       "      <td>2024</td>\n",
       "      <td>31-07-2024</td>\n",
       "      <td>GST</td>\n",
       "      <td>205</td>\n",
       "      <td>3840</td>\n",
       "      <td>691.17</td>\n",
       "      <td>691.17</td>\n",
       "      <td>345.58</td>\n",
       "      <td>345.58</td>\n",
       "      <td>0.0</td>\n",
       "      <td>0</td>\n",
       "      <td>06-07-2025</td>\n",
       "      <td>KARNATAKA</td>\n",
       "      <td>avinashmodaliyar1</td>\n",
       "    </tr>\n",
       "    <tr>\n",
       "      <th>3</th>\n",
       "      <td>06-07-2024</td>\n",
       "      <td>41571161</td>\n",
       "      <td>39966</td>\n",
       "      <td>FRONT OFFICE HSR</td>\n",
       "      <td>126</td>\n",
       "      <td>HSR Layout</td>\n",
       "      <td>frontoffice@hsr.justbooksclc.com</td>\n",
       "      <td>Active User Branch</td>\n",
       "      <td>1</td>\n",
       "      <td>M227899</td>\n",
       "      <td>Veena Venugopal</td>\n",
       "      <td>veenasiofed@gmail.com</td>\n",
       "      <td>6</td>\n",
       "      <td>06-07-2024</td>\n",
       "      <td>2548</td>\n",
       "      <td>881.2</td>\n",
       "      <td>0.0</td>\n",
       "      <td>2548</td>\n",
       "      <td>2548.8</td>\n",
       "      <td>0</td>\n",
       "      <td>0</td>\n",
       "      <td>NaN</td>\n",
       "      <td>Default package</td>\n",
       "      <td>0</td>\n",
       "      <td>0</td>\n",
       "      <td>0</td>\n",
       "      <td>35</td>\n",
       "      <td>40019952</td>\n",
       "      <td>126</td>\n",
       "      <td>Signup</td>\n",
       "      <td>7</td>\n",
       "      <td>2024</td>\n",
       "      <td>31-07-2024</td>\n",
       "      <td>GST</td>\n",
       "      <td>205</td>\n",
       "      <td>2159</td>\n",
       "      <td>388.68</td>\n",
       "      <td>388.68</td>\n",
       "      <td>194.34</td>\n",
       "      <td>194.34</td>\n",
       "      <td>0.0</td>\n",
       "      <td>0</td>\n",
       "      <td>06-01-2025</td>\n",
       "      <td>KARNATAKA</td>\n",
       "      <td>avinashmodaliyar1</td>\n",
       "    </tr>\n",
       "    <tr>\n",
       "      <th>4</th>\n",
       "      <td>06-07-2024</td>\n",
       "      <td>41571162</td>\n",
       "      <td>40016</td>\n",
       "      <td>SRIVALLI HN</td>\n",
       "      <td>108</td>\n",
       "      <td>Nagarabhavi BDA Complex</td>\n",
       "      <td>frontoffice@kng.justbooksclc.com</td>\n",
       "      <td>Profit share</td>\n",
       "      <td>2</td>\n",
       "      <td>M226803</td>\n",
       "      <td>SUSHMA   C</td>\n",
       "      <td>avijiois@gmail.com</td>\n",
       "      <td>3</td>\n",
       "      <td>06-07-2024</td>\n",
       "      <td>1416</td>\n",
       "      <td>0.0</td>\n",
       "      <td>0.0</td>\n",
       "      <td>1416</td>\n",
       "      <td>1416.0</td>\n",
       "      <td>0</td>\n",
       "      <td>0</td>\n",
       "      <td>NaN</td>\n",
       "      <td>Default package</td>\n",
       "      <td>0</td>\n",
       "      <td>0</td>\n",
       "      <td>0</td>\n",
       "      <td>40</td>\n",
       "      <td>40018656</td>\n",
       "      <td>108</td>\n",
       "      <td>Renewal</td>\n",
       "      <td>7</td>\n",
       "      <td>2024</td>\n",
       "      <td>31-07-2024</td>\n",
       "      <td>GST</td>\n",
       "      <td>205</td>\n",
       "      <td>1200</td>\n",
       "      <td>216.00</td>\n",
       "      <td>216.00</td>\n",
       "      <td>108.00</td>\n",
       "      <td>108.00</td>\n",
       "      <td>0.0</td>\n",
       "      <td>0</td>\n",
       "      <td>06-10-2024</td>\n",
       "      <td>KARNATAKA</td>\n",
       "      <td>blrdrmembers</td>\n",
       "    </tr>\n",
       "  </tbody>\n",
       "</table>\n",
       "</div>"
      ],
      "text/plain": [
       "  # created_date        id  created_by      created_name  \\\n",
       "0     06-07-2024  41571158       39977   FRONTOFFICE ELC   \n",
       "1     06-07-2024  41571159       10127   FRONTOFFICE VBL   \n",
       "2     06-07-2024  41571160       39977   FRONTOFFICE ELC   \n",
       "3     06-07-2024  41571161       39966  FRONT OFFICE HSR   \n",
       "4     06-07-2024  41571162       40016       SRIVALLI HN   \n",
       "\n",
       "   transaction_branch_id              branch_name  \\\n",
       "0                    131  Electronic City Phase 1   \n",
       "1                     26       Vijaya Bank Layout   \n",
       "2                    131  Electronic City Phase 1   \n",
       "3                    126               HSR Layout   \n",
       "4                    108  Nagarabhavi BDA Complex   \n",
       "\n",
       "                           branch_email         branch_type  \\\n",
       "0     frontoffice@elc1.justbooksclc.com  Active User Branch   \n",
       "1  sreejaya.shenoy@vij.justbooksclc.com        Profit share   \n",
       "2     frontoffice@elc1.justbooksclc.com  Active User Branch   \n",
       "3      frontoffice@hsr.justbooksclc.com  Active User Branch   \n",
       "4      frontoffice@kng.justbooksclc.com        Profit share   \n",
       "\n",
       "   transaction_type_id member_card      Member_Name                    email  \\\n",
       "0                    4     M227544             Deep  ca.deepdhorda@gmail.com   \n",
       "1                    2     M177663       NARENDRAN        diva_dos@yahoo.com   \n",
       "2                    2     M200974    RUDRA ACHARYA       rudraach@gmail.com   \n",
       "3                    1     M227899  Veena Venugopal    veenasiofed@gmail.com   \n",
       "4                    2     M226803    SUSHMA   C          avijiois@gmail.com   \n",
       "\n",
       "   Number_of_Months transaction_date  amount_paid  Coupon_Discount  \\\n",
       "0                 1       06-07-2024          118              0.0   \n",
       "1                 1       06-07-2024          354              0.0   \n",
       "2                12       06-07-2024         4531           1132.8   \n",
       "3                 6       06-07-2024         2548            881.2   \n",
       "4                 3       06-07-2024         1416              0.0   \n",
       "\n",
       "   magazine_fee_paid  payable_amount  reading_fee_paid  reversed  \\\n",
       "0                0.0             118               0.0         0   \n",
       "1                0.0             354             354.0         0   \n",
       "2                0.0            4531            4531.2         0   \n",
       "3                0.0            2548            2548.8         0   \n",
       "4                0.0            1416            1416.0         0   \n",
       "\n",
       "   over_due_adjustment_amount  last_card_number     display_name  \\\n",
       "0                           0               NaN  Default package   \n",
       "1                           0            9425.0  Default package   \n",
       "2                           0               NaN  Default package   \n",
       "3                           0               NaN  Default package   \n",
       "4                           0               NaN  Default package   \n",
       "\n",
       "   primus_amount  adjustment_amount  security_deposit  Percentage_Share  \\\n",
       "0              0                  0                 0                30   \n",
       "1              0                  0                 0                50   \n",
       "2              0                  0                 0                30   \n",
       "3              0                  0                 0                35   \n",
       "4              0                  0                 0                40   \n",
       "\n",
       "   subscription_id  member_branch_id transaction  Transaction_Month  \\\n",
       "0         40019446               131      Others                  7   \n",
       "1          1292928                26     Renewal                  7   \n",
       "2          1793454               131     Renewal                  7   \n",
       "3         40019952               126      Signup                  7   \n",
       "4         40018656               108     Renewal                  7   \n",
       "\n",
       "   Transaction_Year Month_Last_Date TAX_TYPE  Renewal_Amount  taxable_amount  \\\n",
       "0              2024      31-07-2024      GST             205             100   \n",
       "1              2024      31-07-2024      GST             205             300   \n",
       "2              2024      31-07-2024      GST             205            3840   \n",
       "3              2024      31-07-2024      GST             205            2159   \n",
       "4              2024      31-07-2024      GST             205            1200   \n",
       "\n",
       "   TAX_AMOUNT  GST_AMOUNT  SGST_AMOUNT  CGST_AMOUNT  IGST_AMOUNT  \\\n",
       "0       18.00       18.00         9.00         9.00          0.0   \n",
       "1       54.00       54.00        27.00        27.00          0.0   \n",
       "2      691.17      691.17       345.58       345.58          0.0   \n",
       "3      388.68      388.68       194.34       194.34          0.0   \n",
       "4      216.00      216.00       108.00       108.00          0.0   \n",
       "\n",
       "   Message_Status Membership_expiry_date  TAX_STATE          User_Name  \n",
       "0               0             17-09-2024  KARNATAKA  avinashmodaliyar1  \n",
       "1               0             06-08-2024  KARNATAKA       blrdrmembers  \n",
       "2               0             06-07-2025  KARNATAKA  avinashmodaliyar1  \n",
       "3               0             06-01-2025  KARNATAKA  avinashmodaliyar1  \n",
       "4               0             06-10-2024  KARNATAKA       blrdrmembers  "
      ]
     },
     "execution_count": 4,
     "metadata": {},
     "output_type": "execute_result"
    }
   ],
   "source": [
    "df.head()"
   ]
  },
  {
   "cell_type": "code",
   "execution_count": 5,
   "id": "7461f423",
   "metadata": {},
   "outputs": [
    {
     "data": {
      "text/plain": [
       "(35286, 45)"
      ]
     },
     "execution_count": 5,
     "metadata": {},
     "output_type": "execute_result"
    }
   ],
   "source": [
    "df.shape"
   ]
  },
  {
   "cell_type": "code",
   "execution_count": 6,
   "id": "ef60882a",
   "metadata": {},
   "outputs": [
    {
     "data": {
      "text/plain": [
       "Index(['# created_date', 'id', 'created_by', 'created_name',\n",
       "       'transaction_branch_id', 'branch_name', 'branch_email', 'branch_type',\n",
       "       'transaction_type_id', 'member_card', 'Member_Name', 'email',\n",
       "       'Number_of_Months', 'transaction_date', 'amount_paid',\n",
       "       'Coupon_Discount', 'magazine_fee_paid', 'payable_amount',\n",
       "       'reading_fee_paid', 'reversed', 'over_due_adjustment_amount',\n",
       "       'last_card_number', 'display_name', 'primus_amount',\n",
       "       'adjustment_amount', 'security_deposit', 'Percentage_Share',\n",
       "       'subscription_id', 'member_branch_id', 'transaction',\n",
       "       'Transaction_Month', 'Transaction_Year', 'Month_Last_Date', 'TAX_TYPE',\n",
       "       'Renewal_Amount', 'taxable_amount', 'TAX_AMOUNT', 'GST_AMOUNT',\n",
       "       'SGST_AMOUNT', 'CGST_AMOUNT', 'IGST_AMOUNT', 'Message_Status',\n",
       "       'Membership_expiry_date', 'TAX_STATE', 'User_Name'],\n",
       "      dtype='object')"
      ]
     },
     "execution_count": 6,
     "metadata": {},
     "output_type": "execute_result"
    }
   ],
   "source": [
    "df.columns"
   ]
  },
  {
   "cell_type": "code",
   "execution_count": 7,
   "id": "34ceffae",
   "metadata": {},
   "outputs": [
    {
     "data": {
      "text/plain": [
       "# created_date                    0\n",
       "id                                0\n",
       "created_by                        0\n",
       "created_name                      0\n",
       "transaction_branch_id             0\n",
       "branch_name                       0\n",
       "branch_email                      0\n",
       "branch_type                       0\n",
       "transaction_type_id               0\n",
       "member_card                       0\n",
       "Member_Name                       0\n",
       "email                             0\n",
       "Number_of_Months                  0\n",
       "transaction_date                  0\n",
       "amount_paid                       0\n",
       "Coupon_Discount                   0\n",
       "magazine_fee_paid                 0\n",
       "payable_amount                    0\n",
       "reading_fee_paid                  0\n",
       "reversed                          0\n",
       "over_due_adjustment_amount        0\n",
       "last_card_number              23936\n",
       "display_name                      0\n",
       "primus_amount                     0\n",
       "adjustment_amount                 0\n",
       "security_deposit                  0\n",
       "Percentage_Share                  0\n",
       "subscription_id                   0\n",
       "member_branch_id                  0\n",
       "transaction                       0\n",
       "Transaction_Month                 0\n",
       "Transaction_Year                  0\n",
       "Month_Last_Date                   0\n",
       "TAX_TYPE                          0\n",
       "Renewal_Amount                    0\n",
       "taxable_amount                    0\n",
       "TAX_AMOUNT                        0\n",
       "GST_AMOUNT                        0\n",
       "SGST_AMOUNT                       0\n",
       "CGST_AMOUNT                       0\n",
       "IGST_AMOUNT                       0\n",
       "Message_Status                    0\n",
       "Membership_expiry_date            0\n",
       "TAX_STATE                         0\n",
       "User_Name                         0\n",
       "dtype: int64"
      ]
     },
     "execution_count": 7,
     "metadata": {},
     "output_type": "execute_result"
    }
   ],
   "source": [
    "df.isna().sum()"
   ]
  },
  {
   "cell_type": "code",
   "execution_count": 5,
   "id": "6ca52cfb",
   "metadata": {},
   "outputs": [],
   "source": [
    "df.to_csv('sales_data.csv', index=False)"
   ]
  },
  {
   "cell_type": "code",
   "execution_count": 8,
   "id": "2c4a0f9e",
   "metadata": {},
   "outputs": [],
   "source": [
    "df=pd.read_csv('sales_data.csv')"
   ]
  },
  {
   "cell_type": "code",
   "execution_count": 13,
   "id": "572f845e",
   "metadata": {},
   "outputs": [
    {
     "data": {
      "text/html": [
       "<div>\n",
       "<style scoped>\n",
       "    .dataframe tbody tr th:only-of-type {\n",
       "        vertical-align: middle;\n",
       "    }\n",
       "\n",
       "    .dataframe tbody tr th {\n",
       "        vertical-align: top;\n",
       "    }\n",
       "\n",
       "    .dataframe thead th {\n",
       "        text-align: right;\n",
       "    }\n",
       "</style>\n",
       "<table border=\"1\" class=\"dataframe\">\n",
       "  <thead>\n",
       "    <tr style=\"text-align: right;\">\n",
       "      <th></th>\n",
       "      <th># created_date</th>\n",
       "      <th>id</th>\n",
       "      <th>created_by</th>\n",
       "      <th>created_name</th>\n",
       "      <th>transaction_branch_id</th>\n",
       "      <th>branch_name</th>\n",
       "      <th>branch_email</th>\n",
       "      <th>branch_type</th>\n",
       "      <th>transaction_type_id</th>\n",
       "      <th>member_card</th>\n",
       "      <th>Member_Name</th>\n",
       "      <th>email</th>\n",
       "      <th>Number_of_Months</th>\n",
       "      <th>transaction_date</th>\n",
       "      <th>amount_paid</th>\n",
       "      <th>Coupon_Discount</th>\n",
       "      <th>magazine_fee_paid</th>\n",
       "      <th>payable_amount</th>\n",
       "      <th>reading_fee_paid</th>\n",
       "      <th>reversed</th>\n",
       "      <th>over_due_adjustment_amount</th>\n",
       "      <th>last_card_number</th>\n",
       "      <th>display_name</th>\n",
       "      <th>primus_amount</th>\n",
       "      <th>adjustment_amount</th>\n",
       "      <th>security_deposit</th>\n",
       "      <th>Percentage_Share</th>\n",
       "      <th>subscription_id</th>\n",
       "      <th>member_branch_id</th>\n",
       "      <th>transaction</th>\n",
       "      <th>Transaction_Month</th>\n",
       "      <th>Transaction_Year</th>\n",
       "      <th>Month_Last_Date</th>\n",
       "      <th>TAX_TYPE</th>\n",
       "      <th>Renewal_Amount</th>\n",
       "      <th>taxable_amount</th>\n",
       "      <th>TAX_AMOUNT</th>\n",
       "      <th>GST_AMOUNT</th>\n",
       "      <th>SGST_AMOUNT</th>\n",
       "      <th>CGST_AMOUNT</th>\n",
       "      <th>IGST_AMOUNT</th>\n",
       "      <th>Message_Status</th>\n",
       "      <th>Membership_expiry_date</th>\n",
       "      <th>TAX_STATE</th>\n",
       "      <th>User_Name</th>\n",
       "    </tr>\n",
       "  </thead>\n",
       "  <tbody>\n",
       "    <tr>\n",
       "      <th>0</th>\n",
       "      <td>06-07-2024</td>\n",
       "      <td>41571158</td>\n",
       "      <td>39977</td>\n",
       "      <td>FRONTOFFICE ELC</td>\n",
       "      <td>131</td>\n",
       "      <td>Electronic City Phase 1</td>\n",
       "      <td>frontoffice@elc1.justbooksclc.com</td>\n",
       "      <td>Active User Branch</td>\n",
       "      <td>4</td>\n",
       "      <td>M227544</td>\n",
       "      <td>Deep</td>\n",
       "      <td>ca.deepdhorda@gmail.com</td>\n",
       "      <td>1</td>\n",
       "      <td>06-07-2024</td>\n",
       "      <td>118</td>\n",
       "      <td>0.0</td>\n",
       "      <td>0.0</td>\n",
       "      <td>118</td>\n",
       "      <td>0.0</td>\n",
       "      <td>0</td>\n",
       "      <td>0</td>\n",
       "      <td>NaN</td>\n",
       "      <td>Default package</td>\n",
       "      <td>0</td>\n",
       "      <td>0</td>\n",
       "      <td>0</td>\n",
       "      <td>30</td>\n",
       "      <td>40019446</td>\n",
       "      <td>131</td>\n",
       "      <td>Others</td>\n",
       "      <td>7</td>\n",
       "      <td>2024</td>\n",
       "      <td>31-07-2024</td>\n",
       "      <td>GST</td>\n",
       "      <td>205</td>\n",
       "      <td>100</td>\n",
       "      <td>18.00</td>\n",
       "      <td>18.00</td>\n",
       "      <td>9.00</td>\n",
       "      <td>9.00</td>\n",
       "      <td>0.0</td>\n",
       "      <td>0</td>\n",
       "      <td>17-09-2024</td>\n",
       "      <td>KARNATAKA</td>\n",
       "      <td>avinashmodaliyar1</td>\n",
       "    </tr>\n",
       "    <tr>\n",
       "      <th>1</th>\n",
       "      <td>06-07-2024</td>\n",
       "      <td>41571159</td>\n",
       "      <td>10127</td>\n",
       "      <td>FRONTOFFICE VBL</td>\n",
       "      <td>26</td>\n",
       "      <td>Vijaya Bank Layout</td>\n",
       "      <td>sreejaya.shenoy@vij.justbooksclc.com</td>\n",
       "      <td>Profit share</td>\n",
       "      <td>2</td>\n",
       "      <td>M177663</td>\n",
       "      <td>NARENDRAN</td>\n",
       "      <td>diva_dos@yahoo.com</td>\n",
       "      <td>1</td>\n",
       "      <td>06-07-2024</td>\n",
       "      <td>354</td>\n",
       "      <td>0.0</td>\n",
       "      <td>0.0</td>\n",
       "      <td>354</td>\n",
       "      <td>354.0</td>\n",
       "      <td>0</td>\n",
       "      <td>0</td>\n",
       "      <td>9425.0</td>\n",
       "      <td>Default package</td>\n",
       "      <td>0</td>\n",
       "      <td>0</td>\n",
       "      <td>0</td>\n",
       "      <td>50</td>\n",
       "      <td>1292928</td>\n",
       "      <td>26</td>\n",
       "      <td>Renewal</td>\n",
       "      <td>7</td>\n",
       "      <td>2024</td>\n",
       "      <td>31-07-2024</td>\n",
       "      <td>GST</td>\n",
       "      <td>205</td>\n",
       "      <td>300</td>\n",
       "      <td>54.00</td>\n",
       "      <td>54.00</td>\n",
       "      <td>27.00</td>\n",
       "      <td>27.00</td>\n",
       "      <td>0.0</td>\n",
       "      <td>0</td>\n",
       "      <td>06-08-2024</td>\n",
       "      <td>KARNATAKA</td>\n",
       "      <td>blrdrmembers</td>\n",
       "    </tr>\n",
       "    <tr>\n",
       "      <th>2</th>\n",
       "      <td>06-07-2024</td>\n",
       "      <td>41571160</td>\n",
       "      <td>39977</td>\n",
       "      <td>FRONTOFFICE ELC</td>\n",
       "      <td>131</td>\n",
       "      <td>Electronic City Phase 1</td>\n",
       "      <td>frontoffice@elc1.justbooksclc.com</td>\n",
       "      <td>Active User Branch</td>\n",
       "      <td>2</td>\n",
       "      <td>M200974</td>\n",
       "      <td>RUDRA ACHARYA</td>\n",
       "      <td>rudraach@gmail.com</td>\n",
       "      <td>12</td>\n",
       "      <td>06-07-2024</td>\n",
       "      <td>4531</td>\n",
       "      <td>1132.8</td>\n",
       "      <td>0.0</td>\n",
       "      <td>4531</td>\n",
       "      <td>4531.2</td>\n",
       "      <td>0</td>\n",
       "      <td>0</td>\n",
       "      <td>NaN</td>\n",
       "      <td>Default package</td>\n",
       "      <td>0</td>\n",
       "      <td>0</td>\n",
       "      <td>0</td>\n",
       "      <td>30</td>\n",
       "      <td>1793454</td>\n",
       "      <td>131</td>\n",
       "      <td>Renewal</td>\n",
       "      <td>7</td>\n",
       "      <td>2024</td>\n",
       "      <td>31-07-2024</td>\n",
       "      <td>GST</td>\n",
       "      <td>205</td>\n",
       "      <td>3840</td>\n",
       "      <td>691.17</td>\n",
       "      <td>691.17</td>\n",
       "      <td>345.58</td>\n",
       "      <td>345.58</td>\n",
       "      <td>0.0</td>\n",
       "      <td>0</td>\n",
       "      <td>06-07-2025</td>\n",
       "      <td>KARNATAKA</td>\n",
       "      <td>avinashmodaliyar1</td>\n",
       "    </tr>\n",
       "    <tr>\n",
       "      <th>3</th>\n",
       "      <td>06-07-2024</td>\n",
       "      <td>41571161</td>\n",
       "      <td>39966</td>\n",
       "      <td>FRONT OFFICE HSR</td>\n",
       "      <td>126</td>\n",
       "      <td>HSR Layout</td>\n",
       "      <td>frontoffice@hsr.justbooksclc.com</td>\n",
       "      <td>Active User Branch</td>\n",
       "      <td>1</td>\n",
       "      <td>M227899</td>\n",
       "      <td>Veena Venugopal</td>\n",
       "      <td>veenasiofed@gmail.com</td>\n",
       "      <td>6</td>\n",
       "      <td>06-07-2024</td>\n",
       "      <td>2548</td>\n",
       "      <td>881.2</td>\n",
       "      <td>0.0</td>\n",
       "      <td>2548</td>\n",
       "      <td>2548.8</td>\n",
       "      <td>0</td>\n",
       "      <td>0</td>\n",
       "      <td>NaN</td>\n",
       "      <td>Default package</td>\n",
       "      <td>0</td>\n",
       "      <td>0</td>\n",
       "      <td>0</td>\n",
       "      <td>35</td>\n",
       "      <td>40019952</td>\n",
       "      <td>126</td>\n",
       "      <td>Signup</td>\n",
       "      <td>7</td>\n",
       "      <td>2024</td>\n",
       "      <td>31-07-2024</td>\n",
       "      <td>GST</td>\n",
       "      <td>205</td>\n",
       "      <td>2159</td>\n",
       "      <td>388.68</td>\n",
       "      <td>388.68</td>\n",
       "      <td>194.34</td>\n",
       "      <td>194.34</td>\n",
       "      <td>0.0</td>\n",
       "      <td>0</td>\n",
       "      <td>06-01-2025</td>\n",
       "      <td>KARNATAKA</td>\n",
       "      <td>avinashmodaliyar1</td>\n",
       "    </tr>\n",
       "    <tr>\n",
       "      <th>4</th>\n",
       "      <td>06-07-2024</td>\n",
       "      <td>41571162</td>\n",
       "      <td>40016</td>\n",
       "      <td>SRIVALLI HN</td>\n",
       "      <td>108</td>\n",
       "      <td>Nagarabhavi BDA Complex</td>\n",
       "      <td>frontoffice@kng.justbooksclc.com</td>\n",
       "      <td>Profit share</td>\n",
       "      <td>2</td>\n",
       "      <td>M226803</td>\n",
       "      <td>SUSHMA   C</td>\n",
       "      <td>avijiois@gmail.com</td>\n",
       "      <td>3</td>\n",
       "      <td>06-07-2024</td>\n",
       "      <td>1416</td>\n",
       "      <td>0.0</td>\n",
       "      <td>0.0</td>\n",
       "      <td>1416</td>\n",
       "      <td>1416.0</td>\n",
       "      <td>0</td>\n",
       "      <td>0</td>\n",
       "      <td>NaN</td>\n",
       "      <td>Default package</td>\n",
       "      <td>0</td>\n",
       "      <td>0</td>\n",
       "      <td>0</td>\n",
       "      <td>40</td>\n",
       "      <td>40018656</td>\n",
       "      <td>108</td>\n",
       "      <td>Renewal</td>\n",
       "      <td>7</td>\n",
       "      <td>2024</td>\n",
       "      <td>31-07-2024</td>\n",
       "      <td>GST</td>\n",
       "      <td>205</td>\n",
       "      <td>1200</td>\n",
       "      <td>216.00</td>\n",
       "      <td>216.00</td>\n",
       "      <td>108.00</td>\n",
       "      <td>108.00</td>\n",
       "      <td>0.0</td>\n",
       "      <td>0</td>\n",
       "      <td>06-10-2024</td>\n",
       "      <td>KARNATAKA</td>\n",
       "      <td>blrdrmembers</td>\n",
       "    </tr>\n",
       "  </tbody>\n",
       "</table>\n",
       "</div>"
      ],
      "text/plain": [
       "  # created_date        id  created_by      created_name  \\\n",
       "0     06-07-2024  41571158       39977   FRONTOFFICE ELC   \n",
       "1     06-07-2024  41571159       10127   FRONTOFFICE VBL   \n",
       "2     06-07-2024  41571160       39977   FRONTOFFICE ELC   \n",
       "3     06-07-2024  41571161       39966  FRONT OFFICE HSR   \n",
       "4     06-07-2024  41571162       40016       SRIVALLI HN   \n",
       "\n",
       "   transaction_branch_id              branch_name  \\\n",
       "0                    131  Electronic City Phase 1   \n",
       "1                     26       Vijaya Bank Layout   \n",
       "2                    131  Electronic City Phase 1   \n",
       "3                    126               HSR Layout   \n",
       "4                    108  Nagarabhavi BDA Complex   \n",
       "\n",
       "                           branch_email         branch_type  \\\n",
       "0     frontoffice@elc1.justbooksclc.com  Active User Branch   \n",
       "1  sreejaya.shenoy@vij.justbooksclc.com        Profit share   \n",
       "2     frontoffice@elc1.justbooksclc.com  Active User Branch   \n",
       "3      frontoffice@hsr.justbooksclc.com  Active User Branch   \n",
       "4      frontoffice@kng.justbooksclc.com        Profit share   \n",
       "\n",
       "   transaction_type_id member_card      Member_Name                    email  \\\n",
       "0                    4     M227544             Deep  ca.deepdhorda@gmail.com   \n",
       "1                    2     M177663       NARENDRAN        diva_dos@yahoo.com   \n",
       "2                    2     M200974    RUDRA ACHARYA       rudraach@gmail.com   \n",
       "3                    1     M227899  Veena Venugopal    veenasiofed@gmail.com   \n",
       "4                    2     M226803    SUSHMA   C          avijiois@gmail.com   \n",
       "\n",
       "   Number_of_Months transaction_date  amount_paid  Coupon_Discount  \\\n",
       "0                 1       06-07-2024          118              0.0   \n",
       "1                 1       06-07-2024          354              0.0   \n",
       "2                12       06-07-2024         4531           1132.8   \n",
       "3                 6       06-07-2024         2548            881.2   \n",
       "4                 3       06-07-2024         1416              0.0   \n",
       "\n",
       "   magazine_fee_paid  payable_amount  reading_fee_paid  reversed  \\\n",
       "0                0.0             118               0.0         0   \n",
       "1                0.0             354             354.0         0   \n",
       "2                0.0            4531            4531.2         0   \n",
       "3                0.0            2548            2548.8         0   \n",
       "4                0.0            1416            1416.0         0   \n",
       "\n",
       "   over_due_adjustment_amount  last_card_number     display_name  \\\n",
       "0                           0               NaN  Default package   \n",
       "1                           0            9425.0  Default package   \n",
       "2                           0               NaN  Default package   \n",
       "3                           0               NaN  Default package   \n",
       "4                           0               NaN  Default package   \n",
       "\n",
       "   primus_amount  adjustment_amount  security_deposit  Percentage_Share  \\\n",
       "0              0                  0                 0                30   \n",
       "1              0                  0                 0                50   \n",
       "2              0                  0                 0                30   \n",
       "3              0                  0                 0                35   \n",
       "4              0                  0                 0                40   \n",
       "\n",
       "   subscription_id  member_branch_id transaction  Transaction_Month  \\\n",
       "0         40019446               131      Others                  7   \n",
       "1          1292928                26     Renewal                  7   \n",
       "2          1793454               131     Renewal                  7   \n",
       "3         40019952               126      Signup                  7   \n",
       "4         40018656               108     Renewal                  7   \n",
       "\n",
       "   Transaction_Year Month_Last_Date TAX_TYPE  Renewal_Amount  taxable_amount  \\\n",
       "0              2024      31-07-2024      GST             205             100   \n",
       "1              2024      31-07-2024      GST             205             300   \n",
       "2              2024      31-07-2024      GST             205            3840   \n",
       "3              2024      31-07-2024      GST             205            2159   \n",
       "4              2024      31-07-2024      GST             205            1200   \n",
       "\n",
       "   TAX_AMOUNT  GST_AMOUNT  SGST_AMOUNT  CGST_AMOUNT  IGST_AMOUNT  \\\n",
       "0       18.00       18.00         9.00         9.00          0.0   \n",
       "1       54.00       54.00        27.00        27.00          0.0   \n",
       "2      691.17      691.17       345.58       345.58          0.0   \n",
       "3      388.68      388.68       194.34       194.34          0.0   \n",
       "4      216.00      216.00       108.00       108.00          0.0   \n",
       "\n",
       "   Message_Status Membership_expiry_date  TAX_STATE          User_Name  \n",
       "0               0             17-09-2024  KARNATAKA  avinashmodaliyar1  \n",
       "1               0             06-08-2024  KARNATAKA       blrdrmembers  \n",
       "2               0             06-07-2025  KARNATAKA  avinashmodaliyar1  \n",
       "3               0             06-01-2025  KARNATAKA  avinashmodaliyar1  \n",
       "4               0             06-10-2024  KARNATAKA       blrdrmembers  "
      ]
     },
     "execution_count": 13,
     "metadata": {},
     "output_type": "execute_result"
    }
   ],
   "source": [
    "df.head()"
   ]
  },
  {
   "cell_type": "code",
   "execution_count": 11,
   "id": "87ba1459",
   "metadata": {},
   "outputs": [
    {
     "data": {
      "text/plain": [
       "Index(['# created_date', 'id', 'created_by', 'created_name',\n",
       "       'transaction_branch_id', 'branch_name', 'branch_email', 'branch_type',\n",
       "       'transaction_type_id', 'member_card', 'Member_Name', 'email',\n",
       "       'Number_of_Months', 'transaction_date', 'amount_paid',\n",
       "       'Coupon_Discount', 'magazine_fee_paid', 'payable_amount',\n",
       "       'reading_fee_paid', 'reversed', 'over_due_adjustment_amount',\n",
       "       'last_card_number', 'display_name', 'primus_amount',\n",
       "       'adjustment_amount', 'security_deposit', 'Percentage_Share',\n",
       "       'subscription_id', 'member_branch_id', 'transaction',\n",
       "       'Transaction_Month', 'Transaction_Year', 'Month_Last_Date', 'TAX_TYPE',\n",
       "       'Renewal_Amount', 'taxable_amount', 'TAX_AMOUNT', 'GST_AMOUNT',\n",
       "       'SGST_AMOUNT', 'CGST_AMOUNT', 'IGST_AMOUNT', 'Message_Status',\n",
       "       'Membership_expiry_date', 'TAX_STATE', 'User_Name'],\n",
       "      dtype='object')"
      ]
     },
     "execution_count": 11,
     "metadata": {},
     "output_type": "execute_result"
    }
   ],
   "source": [
    "df.columns"
   ]
  },
  {
   "cell_type": "code",
   "execution_count": 14,
   "id": "308ebf86",
   "metadata": {},
   "outputs": [],
   "source": [
    "df['created_date'] = pd.to_datetime(df['# created_date'],format=\"%d-%m-%Y\")"
   ]
  },
  {
   "cell_type": "code",
   "execution_count": 15,
   "id": "4489cff8",
   "metadata": {},
   "outputs": [],
   "source": [
    "daily_data = df.groupby('created_date').agg({\n",
    "    'created_by': 'first',\n",
    "    'transaction_type_id': 'first',\n",
    "    'over_due_adjustment_amount': 'sum',\n",
    "    'security_deposit': 'sum',\n",
    "    'Percentage_Share': 'sum',\n",
    "    'member_branch_id': 'first',\n",
    "    'branch_name': 'first',\n",
    "    'branch_type': 'first',\n",
    "    'Member_Name': 'first',\n",
    "    'Coupon_Discount': 'sum',\n",
    "    'transaction_branch_id': lambda x: x.mode()[0],  \n",
    "    'reading_fee_paid': 'sum',\n",
    "    'amount_paid': 'sum',\n",
    "    'Number_of_Months': lambda x: x.mode()[0]\n",
    "}).reset_index()\n",
    "\n",
    "daily_data.rename(columns={'created_date': 'ds', 'amount_paid': 'y'}, inplace=True)\n",
    "\n"
   ]
  },
  {
   "cell_type": "code",
   "execution_count": 16,
   "id": "bed2ba4a",
   "metadata": {},
   "outputs": [
    {
     "data": {
      "text/html": [
       "<div>\n",
       "<style scoped>\n",
       "    .dataframe tbody tr th:only-of-type {\n",
       "        vertical-align: middle;\n",
       "    }\n",
       "\n",
       "    .dataframe tbody tr th {\n",
       "        vertical-align: top;\n",
       "    }\n",
       "\n",
       "    .dataframe thead th {\n",
       "        text-align: right;\n",
       "    }\n",
       "</style>\n",
       "<table border=\"1\" class=\"dataframe\">\n",
       "  <thead>\n",
       "    <tr style=\"text-align: right;\">\n",
       "      <th></th>\n",
       "      <th>ds</th>\n",
       "      <th>created_by</th>\n",
       "      <th>transaction_type_id</th>\n",
       "      <th>over_due_adjustment_amount</th>\n",
       "      <th>security_deposit</th>\n",
       "      <th>Percentage_Share</th>\n",
       "      <th>member_branch_id</th>\n",
       "      <th>branch_name</th>\n",
       "      <th>branch_type</th>\n",
       "      <th>Member_Name</th>\n",
       "      <th>Coupon_Discount</th>\n",
       "      <th>transaction_branch_id</th>\n",
       "      <th>reading_fee_paid</th>\n",
       "      <th>y</th>\n",
       "      <th>Number_of_Months</th>\n",
       "    </tr>\n",
       "  </thead>\n",
       "  <tbody>\n",
       "    <tr>\n",
       "      <th>0</th>\n",
       "      <td>2020-01-01</td>\n",
       "      <td>39988</td>\n",
       "      <td>2</td>\n",
       "      <td>2533</td>\n",
       "      <td>11362</td>\n",
       "      <td>3220</td>\n",
       "      <td>1015</td>\n",
       "      <td>Web Store</td>\n",
       "      <td>Company Owned</td>\n",
       "      <td>APARNA SINGHI</td>\n",
       "      <td>16216.000</td>\n",
       "      <td>810</td>\n",
       "      <td>107284.0000</td>\n",
       "      <td>110324</td>\n",
       "      <td>3</td>\n",
       "    </tr>\n",
       "    <tr>\n",
       "      <th>1</th>\n",
       "      <td>2020-01-02</td>\n",
       "      <td>1000</td>\n",
       "      <td>2</td>\n",
       "      <td>2033</td>\n",
       "      <td>8372</td>\n",
       "      <td>3214</td>\n",
       "      <td>39</td>\n",
       "      <td>Web Store</td>\n",
       "      <td>Company Owned</td>\n",
       "      <td>HEEMANSHU D KHARATE</td>\n",
       "      <td>12376.000</td>\n",
       "      <td>810</td>\n",
       "      <td>107504.0037</td>\n",
       "      <td>115690</td>\n",
       "      <td>1</td>\n",
       "    </tr>\n",
       "    <tr>\n",
       "      <th>2</th>\n",
       "      <td>2020-01-03</td>\n",
       "      <td>1000</td>\n",
       "      <td>2</td>\n",
       "      <td>10476</td>\n",
       "      <td>10764</td>\n",
       "      <td>4420</td>\n",
       "      <td>1015</td>\n",
       "      <td>Web Store</td>\n",
       "      <td>Company Owned</td>\n",
       "      <td>MANEESH</td>\n",
       "      <td>24420.000</td>\n",
       "      <td>810</td>\n",
       "      <td>153793.3330</td>\n",
       "      <td>156245</td>\n",
       "      <td>3</td>\n",
       "    </tr>\n",
       "    <tr>\n",
       "      <th>3</th>\n",
       "      <td>2020-01-04</td>\n",
       "      <td>1000</td>\n",
       "      <td>1</td>\n",
       "      <td>9084</td>\n",
       "      <td>22724</td>\n",
       "      <td>6942</td>\n",
       "      <td>1008</td>\n",
       "      <td>Web Store</td>\n",
       "      <td>Company Owned</td>\n",
       "      <td>Jai</td>\n",
       "      <td>38280.667</td>\n",
       "      <td>810</td>\n",
       "      <td>255581.0030</td>\n",
       "      <td>268741</td>\n",
       "      <td>3</td>\n",
       "    </tr>\n",
       "    <tr>\n",
       "      <th>4</th>\n",
       "      <td>2020-01-05</td>\n",
       "      <td>1000</td>\n",
       "      <td>2</td>\n",
       "      <td>16368</td>\n",
       "      <td>15548</td>\n",
       "      <td>6650</td>\n",
       "      <td>1008</td>\n",
       "      <td>Web Store</td>\n",
       "      <td>Company Owned</td>\n",
       "      <td>SUDEEP KAUR  BANSI</td>\n",
       "      <td>40020.000</td>\n",
       "      <td>810</td>\n",
       "      <td>262180.0000</td>\n",
       "      <td>271413</td>\n",
       "      <td>3</td>\n",
       "    </tr>\n",
       "  </tbody>\n",
       "</table>\n",
       "</div>"
      ],
      "text/plain": [
       "          ds  created_by  transaction_type_id  over_due_adjustment_amount  \\\n",
       "0 2020-01-01       39988                    2                        2533   \n",
       "1 2020-01-02        1000                    2                        2033   \n",
       "2 2020-01-03        1000                    2                       10476   \n",
       "3 2020-01-04        1000                    1                        9084   \n",
       "4 2020-01-05        1000                    2                       16368   \n",
       "\n",
       "   security_deposit  Percentage_Share  member_branch_id branch_name  \\\n",
       "0             11362              3220              1015   Web Store   \n",
       "1              8372              3214                39   Web Store   \n",
       "2             10764              4420              1015   Web Store   \n",
       "3             22724              6942              1008   Web Store   \n",
       "4             15548              6650              1008   Web Store   \n",
       "\n",
       "     branch_type          Member_Name  Coupon_Discount  transaction_branch_id  \\\n",
       "0  Company Owned        APARNA SINGHI        16216.000                    810   \n",
       "1  Company Owned  HEEMANSHU D KHARATE        12376.000                    810   \n",
       "2  Company Owned             MANEESH         24420.000                    810   \n",
       "3  Company Owned                  Jai        38280.667                    810   \n",
       "4  Company Owned   SUDEEP KAUR  BANSI        40020.000                    810   \n",
       "\n",
       "   reading_fee_paid       y  Number_of_Months  \n",
       "0       107284.0000  110324                 3  \n",
       "1       107504.0037  115690                 1  \n",
       "2       153793.3330  156245                 3  \n",
       "3       255581.0030  268741                 3  \n",
       "4       262180.0000  271413                 3  "
      ]
     },
     "execution_count": 16,
     "metadata": {},
     "output_type": "execute_result"
    }
   ],
   "source": [
    "daily_data.head()"
   ]
  },
  {
   "cell_type": "code",
   "execution_count": 17,
   "id": "491aee27",
   "metadata": {},
   "outputs": [],
   "source": [
    "regressors = ['over_due_adjustment_amount', 'security_deposit', 'Percentage_Share',\n",
    "              'Coupon_Discount', 'reading_fee_paid', 'Number_of_Months']\n"
   ]
  },
  {
   "cell_type": "code",
   "execution_count": 18,
   "id": "890f452d",
   "metadata": {},
   "outputs": [],
   "source": [
    "model = Prophet()\n",
    "for regressor in regressors:\n",
    "    model.add_regressor(regressor)"
   ]
  },
  {
   "cell_type": "code",
   "execution_count": 19,
   "id": "b006dc56",
   "metadata": {},
   "outputs": [
    {
     "name": "stderr",
     "output_type": "stream",
     "text": [
      "12:48:15 - cmdstanpy - INFO - Chain [1] start processing\n",
      "12:48:16 - cmdstanpy - INFO - Chain [1] done processing\n"
     ]
    },
    {
     "data": {
      "text/plain": [
       "<prophet.forecaster.Prophet at 0x1f00af52cd0>"
      ]
     },
     "execution_count": 19,
     "metadata": {},
     "output_type": "execute_result"
    }
   ],
   "source": [
    "model.fit(daily_data[['ds', 'y'] + regressors])"
   ]
  },
  {
   "cell_type": "code",
   "execution_count": 100,
   "id": "ca4390be",
   "metadata": {},
   "outputs": [
    {
     "ename": "ModuleNotFoundError",
     "evalue": "No module named 'fbprophet'",
     "output_type": "error",
     "traceback": [
      "\u001b[1;31m---------------------------------------------------------------------------\u001b[0m",
      "\u001b[1;31mModuleNotFoundError\u001b[0m                       Traceback (most recent call last)",
      "Cell \u001b[1;32mIn[100], line 1\u001b[0m\n\u001b[1;32m----> 1\u001b[0m \u001b[38;5;28;01mfrom\u001b[39;00m \u001b[38;5;21;01mfbprophet\u001b[39;00m \u001b[38;5;28;01mimport\u001b[39;00m Prophet\n\u001b[0;32m      3\u001b[0m \u001b[38;5;66;03m# Create and fit the model\u001b[39;00m\n\u001b[0;32m      4\u001b[0m model \u001b[38;5;241m=\u001b[39m Prophet(daily_seasonality\u001b[38;5;241m=\u001b[39m\u001b[38;5;28;01mTrue\u001b[39;00m, weekly_seasonality\u001b[38;5;241m=\u001b[39m\u001b[38;5;28;01mTrue\u001b[39;00m, yearly_seasonality\u001b[38;5;241m=\u001b[39m\u001b[38;5;28;01mTrue\u001b[39;00m)\n",
      "\u001b[1;31mModuleNotFoundError\u001b[0m: No module named 'fbprophet'"
     ]
    }
   ],
   "source": [
    "from fbprophet import Prophet\n",
    "\n",
    "# Create and fit the model\n",
    "model = Prophet(daily_seasonality=True, weekly_seasonality=True, yearly_seasonality=True)\n",
    "for regressor in regressors:\n",
    "    model.add_regressor(regressor)\n",
    "model.fit(daily_data[['ds', 'y'] + regressors])\n"
   ]
  },
  {
   "cell_type": "code",
   "execution_count": 23,
   "id": "0eff0338",
   "metadata": {},
   "outputs": [
    {
     "name": "stdout",
     "output_type": "stream",
     "text": [
      "           ds          yhat    yhat_lower    yhat_upper\n",
      "0  2024-08-15  21972.754660  18363.565308  25796.387514\n",
      "1  2024-08-16  22459.988534  18758.859506  26011.457638\n",
      "2  2024-08-17  17963.633025  14164.643972  21618.941978\n",
      "3  2024-08-18  16323.424980  12737.200190  19817.076284\n",
      "4  2024-08-19  20715.727946  16961.437460  24211.666256\n",
      "5  2024-08-20  30252.379263  26505.881555  34072.984463\n",
      "6  2024-08-21  21248.336603  17844.362379  24953.187299\n",
      "7  2024-08-22  26782.863623  22817.904559  30422.316089\n",
      "8  2024-08-23  20793.514208  17317.068301  24588.947298\n",
      "9  2024-08-24  14372.508654  10543.858031  17882.563834\n",
      "10 2024-08-25  16456.628066  12548.161890  19897.865981\n",
      "11 2024-08-26  17148.968746  13452.366320  20721.843938\n",
      "12 2024-08-27  32244.701681  28639.319079  35882.586717\n",
      "13 2024-08-28  18172.382149  14494.471862  21728.490031\n",
      "14 2024-08-29  23064.229165  19420.630572  26833.324351\n",
      "15 2024-08-30  22344.442078  18632.860927  25921.310281\n",
      "16 2024-08-31  19831.876941  16481.786637  23540.990714\n",
      "17 2024-09-01  17061.336910  13381.489868  20790.074156\n",
      "18 2024-09-02  22767.268294  18955.266380  26285.844111\n",
      "19 2024-09-03  16692.758818  12927.152715  20437.590146\n",
      "20 2024-09-04  19035.364519  15391.679345  22854.666410\n",
      "21 2024-09-05  18552.731116  14992.858586  22080.521553\n",
      "22 2024-09-06  20170.023996  16338.360115  23807.389445\n",
      "23 2024-09-07  21364.793027  17556.608380  24824.175262\n",
      "24 2024-09-08  14918.743926  11420.443834  18667.265205\n",
      "25 2024-09-09  20589.246657  17086.197313  24420.975391\n",
      "26 2024-09-10  30576.192516  26830.458365  34558.416835\n",
      "27 2024-09-11  16053.870426  12244.010543  19373.143419\n",
      "28 2024-09-12  21811.587602  18117.776165  25299.872415\n",
      "29 2024-09-13  16092.239745  12640.738983  19710.025919\n",
      "30 2024-09-14  19713.989979  16176.824150  23584.205140\n",
      "31 2024-09-15  14672.671036  11105.629703  18110.954054\n",
      "32 2024-09-16  24457.283811  20697.222482  28078.264481\n",
      "33 2024-09-17  17229.715476  13235.752166  20925.844477\n",
      "34 2024-09-18  16401.241525  12558.047890  19945.453943\n",
      "35 2024-09-19  25895.276039  22238.126020  29438.614629\n",
      "36 2024-09-20  15440.794134  11766.930551  18882.262039\n",
      "37 2024-09-21  18498.580031  14908.259127  21852.442414\n",
      "38 2024-09-22  14186.903779  10218.649030  17782.500213\n",
      "39 2024-09-23  31459.450411  27960.629337  34968.477158\n",
      "40 2024-09-24  23646.487261  19705.614248  27515.237728\n",
      "41 2024-09-25  24846.325151  21409.742021  28496.401994\n",
      "42 2024-09-26  15114.745971  11368.239030  18639.162794\n",
      "43 2024-09-27  18053.295229  14253.817783  21522.242387\n",
      "44 2024-09-28  13394.679551   9618.427200  16983.052901\n",
      "45 2024-09-29  14417.415886  10799.324254  17951.000877\n",
      "46 2024-09-30  23728.432776  20250.889494  27342.902112\n",
      "47 2024-10-01  24686.823397  20969.428525  28352.646830\n",
      "48 2024-10-02  20785.262327  17295.121162  24535.252845\n",
      "49 2024-10-03  23794.380856  19822.814173  27208.249783\n",
      "50 2024-10-04  15795.351652  12106.928207  19428.005433\n",
      "51 2024-10-05  16184.236892  12440.093105  19893.596621\n",
      "52 2024-10-06  18066.664649  14522.216123  21820.356379\n",
      "53 2024-10-07  25195.101127  21577.228488  28917.913381\n",
      "54 2024-10-08  21815.825208  18249.790845  25453.672204\n",
      "55 2024-10-09  25570.546516  21802.794462  29380.506473\n",
      "56 2024-10-10  23752.347919  20153.567890  27596.491324\n",
      "57 2024-10-11  17327.880582  13986.624600  21339.719164\n",
      "58 2024-10-12  19034.139172  15599.094556  22689.475184\n",
      "59 2024-10-13  14997.915598  11424.653739  18543.114613\n",
      "60 2024-10-14  19923.239846  16429.073466  23565.103877\n",
      "61 2024-10-15  24041.819531  20203.451550  27457.220824\n",
      "62 2024-10-16  19252.145814  15715.751288  22972.344033\n",
      "63 2024-10-17  20918.137606  17133.906706  24413.118940\n",
      "64 2024-10-18  23451.338664  19580.554008  27204.266126\n",
      "65 2024-10-19  17259.013100  13741.542086  20631.692165\n",
      "66 2024-10-20  17591.985607  13989.112302  21310.408437\n",
      "67 2024-10-21  21909.843823  18382.382899  25465.915759\n",
      "68 2024-10-22  21702.450975  18061.847270  25386.744420\n",
      "69 2024-10-23  20626.824630  16936.842465  24236.812147\n",
      "70 2024-10-24  13624.748864  10097.652699  17433.558747\n",
      "71 2024-10-25  16417.511857  12833.292894  19908.832212\n",
      "72 2024-10-26  15352.810320  11868.556219  18747.365047\n",
      "73 2024-10-27  20893.595061  17232.910404  24897.793512\n",
      "74 2024-10-28  19223.440504  15569.723813  22953.488516\n",
      "75 2024-10-29  19564.172791  15888.996316  23149.206427\n",
      "76 2024-10-30  19474.983160  15730.299424  23219.162170\n",
      "77 2024-10-31  16035.920989  12470.239857  19400.276371\n"
     ]
    }
   ],
   "source": [
    "import pandas as pd\n",
    "import numpy as np\n",
    "from datetime import datetime\n",
    "\n",
    "# Function to calculate historical daily averages for each month in the period\n",
    "def calculate_daily_averages(df, month, year, regressors):\n",
    "    # Determine the range of years in the historical data\n",
    "    min_year = df['ds'].dt.year.min()\n",
    "    max_year = df['ds'].dt.year.max()\n",
    "\n",
    "    # Calculate weights dynamically based on available years\n",
    "    weights = {y: 1 / (year - y + 1) for y in range(min_year, max_year + 1)}\n",
    "    \n",
    "    daily_averages = {}\n",
    "    for regressor in regressors:\n",
    "        daily_values = []\n",
    "        for day in range(1, 32):  # Assuming up to 31 days in a month\n",
    "            day_values = []\n",
    "            for y, weight in weights.items():\n",
    "                day_data = df[(df['ds'].dt.month == month) & \n",
    "                              (df['ds'].dt.year == y) & \n",
    "                              (df['ds'].dt.day == day)]\n",
    "                \n",
    "                if not day_data.empty:\n",
    "                    day_avg = day_data[regressor].mean() * weight\n",
    "                    day_values.append(day_avg)\n",
    "                    \n",
    "            if day_values:\n",
    "                # Convert weights.values() to a list and then sum\n",
    "                total_weight = sum(weights.values())\n",
    "                weighted_average = np.sum(day_values) / total_weight\n",
    "            else:\n",
    "                weighted_average = np.nan  # Handle cases where there is no data for that day\n",
    "            daily_values.append(weighted_average)\n",
    "        \n",
    "        daily_averages[regressor] = daily_values\n",
    "    \n",
    "    return daily_averages\n",
    "\n",
    "# Historical Data (Assume you have it in 'daily_data')\n",
    "historical_data = daily_data.copy()\n",
    "\n",
    "# Predicting for the next 3 months starting from August 2024\n",
    "start_date = datetime(2024, 8, 15)\n",
    "end_date = datetime(2024, 10, 31)\n",
    "\n",
    "# Regressors\n",
    "regressors = ['over_due_adjustment_amount', 'security_deposit', 'Percentage_Share', 'Coupon_Discount', 'reading_fee_paid', 'Number_of_Months']\n",
    "\n",
    "# Generate future DataFrame for the prediction period\n",
    "future_dates = pd.date_range(start=start_date, end=end_date)\n",
    "future_df = pd.DataFrame({'ds': future_dates})\n",
    "\n",
    "# Loop through each month in the prediction period\n",
    "for current_month in range(start_date.month, end_date.month + 1):\n",
    "    # Calculate daily averages for the current month\n",
    "    daily_averages = calculate_daily_averages(historical_data, current_month, start_date.year, regressors)\n",
    "    \n",
    "    # Assign daily averages to the corresponding dates in future_df\n",
    "    month_mask = future_df['ds'].dt.month == current_month\n",
    "    for regressor in regressors:\n",
    "        future_df.loc[month_mask, regressor] = daily_averages[regressor][:sum(month_mask)]\n",
    "\n",
    "# Optional: Adjust for day of the week effect\n",
    "future_df['day_of_week'] = future_df['ds'].dt.dayofweek\n",
    "weekend_factor = 0.9  # Example adjustment for weekends\n",
    "\n",
    "for regressor in regressors:\n",
    "    future_df.loc[future_df['day_of_week'] >= 5, regressor] *= weekend_factor\n",
    "\n",
    "# Now you can use 'future_df' with the Prophet model to predict values for the next 3 months\n",
    "forecast = model.predict(future_df)\n",
    "\n",
    "# View the forecast\n",
    "print(forecast[['ds', 'yhat', 'yhat_lower', 'yhat_upper']])\n"
   ]
  },
  {
   "cell_type": "code",
   "execution_count": 24,
   "id": "f86c0ded",
   "metadata": {},
   "outputs": [
    {
     "name": "stderr",
     "output_type": "stream",
     "text": [
      "C:\\Users\\giris\\anaconda3\\Lib\\site-packages\\prophet\\plot.py:228: FutureWarning:\n",
      "\n",
      "The behavior of DatetimeProperties.to_pydatetime is deprecated, in a future version this will return a Series containing python datetime objects instead of an ndarray. To retain the old behavior, call `np.array` on the result\n",
      "\n",
      "C:\\Users\\giris\\anaconda3\\Lib\\site-packages\\prophet\\plot.py:351: FutureWarning:\n",
      "\n",
      "The behavior of DatetimeProperties.to_pydatetime is deprecated, in a future version this will return a Series containing python datetime objects instead of an ndarray. To retain the old behavior, call `np.array` on the result\n",
      "\n",
      "C:\\Users\\giris\\anaconda3\\Lib\\site-packages\\prophet\\plot.py:354: FutureWarning:\n",
      "\n",
      "The behavior of DatetimeProperties.to_pydatetime is deprecated, in a future version this will return a Series containing python datetime objects instead of an ndarray. To retain the old behavior, call `np.array` on the result\n",
      "\n",
      "C:\\Users\\giris\\anaconda3\\Lib\\site-packages\\prophet\\plot.py:228: FutureWarning:\n",
      "\n",
      "The behavior of DatetimeProperties.to_pydatetime is deprecated, in a future version this will return a Series containing python datetime objects instead of an ndarray. To retain the old behavior, call `np.array` on the result\n",
      "\n"
     ]
    },
    {
     "data": {
      "image/png": "[encoded data removed]",
      "text/plain": [
       "<Figure size 900x1200 with 4 Axes>"
      ]
     },
     "metadata": {},
     "output_type": "display_data"
    }
   ],
   "source": [
    "import matplotlib.pyplot as plt\n",
    "\n",
    "# Use Prophet's built-in function to plot components\n",
    "fig = model.plot_components(forecast)\n",
    "plt.show()\n"
   ]
  },
  {
   "cell_type": "code",
   "execution_count": 25,
   "id": "36bbd4e7",
   "metadata": {},
   "outputs": [
    {
     "name": "stderr",
     "output_type": "stream",
     "text": [
      "C:\\Users\\giris\\anaconda3\\Lib\\site-packages\\_plotly_utils\\basevalidators.py:106: FutureWarning:\n",
      "\n",
      "The behavior of DatetimeProperties.to_pydatetime is deprecated, in a future version this will return a Series containing python datetime objects instead of an ndarray. To retain the old behavior, call `np.array` on the result\n",
      "\n"
     ]
    },
    {
     "data": {
      "application/vnd.plotly.v1+json": {
       "config": {
        "plotlyServerURL": "https://plot.ly"
       },
       "data": [
        {
         "line": {
          "color": "red"
         },
         "mode": "lines",
         "name": "Forecast",
         "type": "scatter",
         "x": [
          "2024-08-15T00:00:00",
          "2024-08-16T00:00:00",
          "2024-08-17T00:00:00",
          "2024-08-18T00:00:00",
          "2024-08-19T00:00:00",
          "2024-08-20T00:00:00",
          "2024-08-21T00:00:00",
          "2024-08-22T00:00:00",
          "2024-08-23T00:00:00",
          "2024-08-24T00:00:00",
          "2024-08-25T00:00:00",
          "2024-08-26T00:00:00",
          "2024-08-27T00:00:00",
          "2024-08-28T00:00:00",
          "2024-08-29T00:00:00",
          "2024-08-30T00:00:00",
          "2024-08-31T00:00:00",
          "2024-09-01T00:00:00",
          "2024-09-02T00:00:00",
          "2024-09-03T00:00:00",
          "2024-09-04T00:00:00",
          "2024-09-05T00:00:00",
          "2024-09-06T00:00:00",
          "2024-09-07T00:00:00",
          "2024-09-08T00:00:00",
          "2024-09-09T00:00:00",
          "2024-09-10T00:00:00",
          "2024-09-11T00:00:00",
          "2024-09-12T00:00:00",
          "2024-09-13T00:00:00",
          "2024-09-14T00:00:00",
          "2024-09-15T00:00:00",
          "2024-09-16T00:00:00",
          "2024-09-17T00:00:00",
          "2024-09-18T00:00:00",
          "2024-09-19T00:00:00",
          "2024-09-20T00:00:00",
          "2024-09-21T00:00:00",
          "2024-09-22T00:00:00",
          "2024-09-23T00:00:00",
          "2024-09-24T00:00:00",
          "2024-09-25T00:00:00",
          "2024-09-26T00:00:00",
          "2024-09-27T00:00:00",
          "2024-09-28T00:00:00",
          "2024-09-29T00:00:00",
          "2024-09-30T00:00:00",
          "2024-10-01T00:00:00",
          "2024-10-02T00:00:00",
          "2024-10-03T00:00:00",
          "2024-10-04T00:00:00",
          "2024-10-05T00:00:00",
          "2024-10-06T00:00:00",
          "2024-10-07T00:00:00",
          "2024-10-08T00:00:00",
          "2024-10-09T00:00:00",
          "2024-10-10T00:00:00",
          "2024-10-11T00:00:00",
          "2024-10-12T00:00:00",
          "2024-10-13T00:00:00",
          "2024-10-14T00:00:00",
          "2024-10-15T00:00:00",
          "2024-10-16T00:00:00",
          "2024-10-17T00:00:00",
          "2024-10-18T00:00:00",
          "2024-10-19T00:00:00",
          "2024-10-20T00:00:00",
          "2024-10-21T00:00:00",
          "2024-10-22T00:00:00",
          "2024-10-23T00:00:00",
          "2024-10-24T00:00:00",
          "2024-10-25T00:00:00",
          "2024-10-26T00:00:00",
          "2024-10-27T00:00:00",
          "2024-10-28T00:00:00",
          "2024-10-29T00:00:00",
          "2024-10-30T00:00:00",
          "2024-10-31T00:00:00"
         ],
         "y": [
          21972.75466024528,
          22459.988533660835,
          17963.633024556213,
          16323.424979714844,
          20715.727945684812,
          30252.37926253293,
          21248.33660337508,
          26782.863623024765,
          20793.51420816715,
          14372.508653968642,
          16456.62806568177,
          17148.96874565244,
          32244.701680932594,
          18172.382149255867,
          23064.22916482214,
          22344.44207789152,
          19831.876941399496,
          17061.336910463546,
          22767.26829401745,
          16692.758817737118,
          19035.3645190371,
          18552.73111576672,
          20170.023996429296,
          21364.79302715976,
          14918.74392556099,
          20589.24665717049,
          30576.192515958217,
          16053.87042626677,
          21811.587601575477,
          16092.239744956154,
          19713.989979245252,
          14672.671035864296,
          24457.28381084102,
          17229.715475873327,
          16401.24152534718,
          25895.276039400487,
          15440.79413372069,
          18498.5800313876,
          14186.90377909111,
          31459.45041050035,
          23646.48726068751,
          24846.325150809447,
          15114.74597127956,
          18053.29522868447,
          13394.679551449131,
          14417.415886422023,
          23728.43277607223,
          24686.823397221106,
          20785.262326970056,
          23794.380855651336,
          15795.351651592318,
          16184.23689225431,
          18066.664649264654,
          25195.101127325655,
          21815.82520825959,
          25570.546516335722,
          23752.34791939976,
          17327.880581556128,
          19034.139172099836,
          14997.915597511881,
          19923.239845799915,
          24041.819531227302,
          19252.145813740783,
          20918.137606078653,
          23451.338663914354,
          17259.013100438606,
          17591.985606958853,
          21909.843822687024,
          21702.450974757176,
          20626.824629676306,
          13624.748864049787,
          16417.511856920257,
          15352.810319799257,
          20893.595060838255,
          19223.44050365537,
          19564.172790596862,
          19474.98316046033,
          16035.920988761882
         ]
        },
        {
         "line": {
          "color": "red",
          "dash": "dash"
         },
         "mode": "lines",
         "name": "Upper Bound",
         "type": "scatter",
         "x": [
          "2024-08-15T00:00:00",
          "2024-08-16T00:00:00",
          "2024-08-17T00:00:00",
          "2024-08-18T00:00:00",
          "2024-08-19T00:00:00",
          "2024-08-20T00:00:00",
          "2024-08-21T00:00:00",
          "2024-08-22T00:00:00",
          "2024-08-23T00:00:00",
          "2024-08-24T00:00:00",
          "2024-08-25T00:00:00",
          "2024-08-26T00:00:00",
          "2024-08-27T00:00:00",
          "2024-08-28T00:00:00",
          "2024-08-29T00:00:00",
          "2024-08-30T00:00:00",
          "2024-08-31T00:00:00",
          "2024-09-01T00:00:00",
          "2024-09-02T00:00:00",
          "2024-09-03T00:00:00",
          "2024-09-04T00:00:00",
          "2024-09-05T00:00:00",
          "2024-09-06T00:00:00",
          "2024-09-07T00:00:00",
          "2024-09-08T00:00:00",
          "2024-09-09T00:00:00",
          "2024-09-10T00:00:00",
          "2024-09-11T00:00:00",
          "2024-09-12T00:00:00",
          "2024-09-13T00:00:00",
          "2024-09-14T00:00:00",
          "2024-09-15T00:00:00",
          "2024-09-16T00:00:00",
          "2024-09-17T00:00:00",
          "2024-09-18T00:00:00",
          "2024-09-19T00:00:00",
          "2024-09-20T00:00:00",
          "2024-09-21T00:00:00",
          "2024-09-22T00:00:00",
          "2024-09-23T00:00:00",
          "2024-09-24T00:00:00",
          "2024-09-25T00:00:00",
          "2024-09-26T00:00:00",
          "2024-09-27T00:00:00",
          "2024-09-28T00:00:00",
          "2024-09-29T00:00:00",
          "2024-09-30T00:00:00",
          "2024-10-01T00:00:00",
          "2024-10-02T00:00:00",
          "2024-10-03T00:00:00",
          "2024-10-04T00:00:00",
          "2024-10-05T00:00:00",
          "2024-10-06T00:00:00",
          "2024-10-07T00:00:00",
          "2024-10-08T00:00:00",
          "2024-10-09T00:00:00",
          "2024-10-10T00:00:00",
          "2024-10-11T00:00:00",
          "2024-10-12T00:00:00",
          "2024-10-13T00:00:00",
          "2024-10-14T00:00:00",
          "2024-10-15T00:00:00",
          "2024-10-16T00:00:00",
          "2024-10-17T00:00:00",
          "2024-10-18T00:00:00",
          "2024-10-19T00:00:00",
          "2024-10-20T00:00:00",
          "2024-10-21T00:00:00",
          "2024-10-22T00:00:00",
          "2024-10-23T00:00:00",
          "2024-10-24T00:00:00",
          "2024-10-25T00:00:00",
          "2024-10-26T00:00:00",
          "2024-10-27T00:00:00",
          "2024-10-28T00:00:00",
          "2024-10-29T00:00:00",
          "2024-10-30T00:00:00",
          "2024-10-31T00:00:00"
         ],
         "y": [
          25796.38751447771,
          26011.457638033822,
          21618.941977800503,
          19817.076284332477,
          24211.66625561454,
          34072.98446254115,
          24953.18729928626,
          30422.316088897,
          24588.947298402232,
          17882.563833662214,
          19897.86598142732,
          20721.843937827925,
          35882.58671674909,
          21728.490031461584,
          26833.324351269453,
          25921.310280679463,
          23540.99071424337,
          20790.074155669074,
          26285.844111285413,
          20437.590145688962,
          22854.666409944166,
          22080.52155269329,
          23807.389445332796,
          24824.175261912813,
          18667.265205419848,
          24420.9753906343,
          34558.416835345175,
          19373.143418541298,
          25299.872415391197,
          19710.02591949648,
          23584.20514004759,
          18110.954053831305,
          28078.264481251284,
          20925.844477359602,
          19945.453942917164,
          29438.61462881471,
          18882.26203949786,
          21852.44241404574,
          17782.500213011466,
          34968.47715806792,
          27515.237728088425,
          28496.401994402353,
          18639.162794443317,
          21522.2423869284,
          16983.052901372455,
          17951.0008773231,
          27342.902111610954,
          28352.646829678568,
          24535.25284534143,
          27208.249782674422,
          19428.00543322011,
          19893.596620664463,
          21820.356379456887,
          28917.91338134865,
          25453.672204090457,
          29380.50647287112,
          27596.491323566817,
          21339.719164363545,
          22689.475184051702,
          18543.11461317997,
          23565.103876610738,
          27457.220823543,
          22972.344033146415,
          24413.118939955944,
          27204.26612599859,
          20631.692164939177,
          21310.40843703336,
          25465.915759051513,
          25386.744420107156,
          24236.812147156274,
          17433.558746558156,
          19908.832212162262,
          18747.365046716593,
          24897.79351152785,
          22953.488516420985,
          23149.206426847017,
          23219.16217033927,
          19400.27637074455
         ]
        },
        {
         "fill": "tonexty",
         "line": {
          "color": "red",
          "dash": "dash"
         },
         "mode": "lines",
         "name": "Lower Bound",
         "type": "scatter",
         "x": [
          "2024-08-15T00:00:00",
          "2024-08-16T00:00:00",
          "2024-08-17T00:00:00",
          "2024-08-18T00:00:00",
          "2024-08-19T00:00:00",
          "2024-08-20T00:00:00",
          "2024-08-21T00:00:00",
          "2024-08-22T00:00:00",
          "2024-08-23T00:00:00",
          "2024-08-24T00:00:00",
          "2024-08-25T00:00:00",
          "2024-08-26T00:00:00",
          "2024-08-27T00:00:00",
          "2024-08-28T00:00:00",
          "2024-08-29T00:00:00",
          "2024-08-30T00:00:00",
          "2024-08-31T00:00:00",
          "2024-09-01T00:00:00",
          "2024-09-02T00:00:00",
          "2024-09-03T00:00:00",
          "2024-09-04T00:00:00",
          "2024-09-05T00:00:00",
          "2024-09-06T00:00:00",
          "2024-09-07T00:00:00",
          "2024-09-08T00:00:00",
          "2024-09-09T00:00:00",
          "2024-09-10T00:00:00",
          "2024-09-11T00:00:00",
          "2024-09-12T00:00:00",
          "2024-09-13T00:00:00",
          "2024-09-14T00:00:00",
          "2024-09-15T00:00:00",
          "2024-09-16T00:00:00",
          "2024-09-17T00:00:00",
          "2024-09-18T00:00:00",
          "2024-09-19T00:00:00",
          "2024-09-20T00:00:00",
          "2024-09-21T00:00:00",
          "2024-09-22T00:00:00",
          "2024-09-23T00:00:00",
          "2024-09-24T00:00:00",
          "2024-09-25T00:00:00",
          "2024-09-26T00:00:00",
          "2024-09-27T00:00:00",
          "2024-09-28T00:00:00",
          "2024-09-29T00:00:00",
          "2024-09-30T00:00:00",
          "2024-10-01T00:00:00",
          "2024-10-02T00:00:00",
          "2024-10-03T00:00:00",
          "2024-10-04T00:00:00",
          "2024-10-05T00:00:00",
          "2024-10-06T00:00:00",
          "2024-10-07T00:00:00",
          "2024-10-08T00:00:00",
          "2024-10-09T00:00:00",
          "2024-10-10T00:00:00",
          "2024-10-11T00:00:00",
          "2024-10-12T00:00:00",
          "2024-10-13T00:00:00",
          "2024-10-14T00:00:00",
          "2024-10-15T00:00:00",
          "2024-10-16T00:00:00",
          "2024-10-17T00:00:00",
          "2024-10-18T00:00:00",
          "2024-10-19T00:00:00",
          "2024-10-20T00:00:00",
          "2024-10-21T00:00:00",
          "2024-10-22T00:00:00",
          "2024-10-23T00:00:00",
          "2024-10-24T00:00:00",
          "2024-10-25T00:00:00",
          "2024-10-26T00:00:00",
          "2024-10-27T00:00:00",
          "2024-10-28T00:00:00",
          "2024-10-29T00:00:00",
          "2024-10-30T00:00:00",
          "2024-10-31T00:00:00"
         ],
         "y": [
          18363.565308419107,
          18758.859505653425,
          14164.64397199556,
          12737.200190484047,
          16961.437459510995,
          26505.88155515361,
          17844.362378518792,
          22817.904558687795,
          17317.068300703242,
          10543.858030519652,
          12548.161889619414,
          13452.366319671797,
          28639.319079160952,
          14494.471862060516,
          19420.630571925078,
          18632.86092664141,
          16481.78663740518,
          13381.489867995218,
          18955.266379794815,
          12927.152714652419,
          15391.679344928114,
          14992.858585566906,
          16338.360114936839,
          17556.60838033192,
          11420.443834141439,
          17086.197312502885,
          26830.458365369817,
          12244.010542925758,
          18117.776164566174,
          12640.738983220052,
          16176.82415021356,
          11105.62970324197,
          20697.222482419707,
          13235.75216619718,
          12558.04788988818,
          22238.126019998603,
          11766.930550941763,
          14908.259127003592,
          10218.649029900262,
          27960.629336666487,
          19705.61424755449,
          21409.7420208702,
          11368.239029648685,
          14253.817783123572,
          9618.427200065133,
          10799.32425443768,
          20250.88949433639,
          20969.428525203468,
          17295.121161573246,
          19822.81417280152,
          12106.928206503158,
          12440.09310466648,
          14522.21612319403,
          21577.228488368375,
          18249.790844714415,
          21802.794462046637,
          20153.567889748883,
          13986.624599957933,
          15599.094556120857,
          11424.653739453443,
          16429.07346552841,
          20203.451550085163,
          15715.751287701389,
          17133.90670630627,
          19580.5540078758,
          13741.542086009991,
          13989.11230191312,
          18382.38289921231,
          18061.847269932612,
          16936.84246524931,
          10097.652698627051,
          12833.29289362643,
          11868.556218715372,
          17232.910404025642,
          15569.723812837598,
          15888.996316158544,
          15730.29942410911,
          12470.239856782373
         ]
        }
       ],
       "layout": {
        "legend": {
         "title": {
          "text": "Legend"
         }
        },
        "template": {
         "data": {
          "bar": [
           {
            "error_x": {
             "color": "#2a3f5f"
            },
            "error_y": {
             "color": "#2a3f5f"
            },
            "marker": {
             "line": {
              "color": "#E5ECF6",
              "width": 0.5
             },
             "pattern": {
              "fillmode": "overlay",
              "size": 10,
              "solidity": 0.2
             }
            },
            "type": "bar"
           }
          ],
          "barpolar": [
           {
            "marker": {
             "line": {
              "color": "#E5ECF6",
              "width": 0.5
             },
             "pattern": {
              "fillmode": "overlay",
              "size": 10,
              "solidity": 0.2
             }
            },
            "type": "barpolar"
           }
          ],
          "carpet": [
           {
            "aaxis": {
             "endlinecolor": "#2a3f5f",
             "gridcolor": "white",
             "linecolor": "white",
             "minorgridcolor": "white",
             "startlinecolor": "#2a3f5f"
            },
            "baxis": {
             "endlinecolor": "#2a3f5f",
             "gridcolor": "white",
             "linecolor": "white",
             "minorgridcolor": "white",
             "startlinecolor": "#2a3f5f"
            },
            "type": "carpet"
           }
          ],
          "choropleth": [
           {
            "colorbar": {
             "outlinewidth": 0,
             "ticks": ""
            },
            "type": "choropleth"
           }
          ],
          "contour": [
           {
            "colorbar": {
             "outlinewidth": 0,
             "ticks": ""
            },
            "colorscale": [
             [
              0,
              "#0d0887"
             ],
             [
              0.1111111111111111,
              "#46039f"
             ],
             [
              0.2222222222222222,
              "#7201a8"
             ],
             [
              0.3333333333333333,
              "#9c179e"
             ],
             [
              0.4444444444444444,
              "#bd3786"
             ],
             [
              0.5555555555555556,
              "#d8576b"
             ],
             [
              0.6666666666666666,
              "#ed7953"
             ],
             [
              0.7777777777777778,
              "#fb9f3a"
             ],
             [
              0.8888888888888888,
              "#fdca26"
             ],
             [
              1,
              "#f0f921"
             ]
            ],
            "type": "contour"
           }
          ],
          "contourcarpet": [
           {
            "colorbar": {
             "outlinewidth": 0,
             "ticks": ""
            },
            "type": "contourcarpet"
           }
          ],
          "heatmap": [
           {
            "colorbar": {
             "outlinewidth": 0,
             "ticks": ""
            },
            "colorscale": [
             [
              0,
              "#0d0887"
             ],
             [
              0.1111111111111111,
              "#46039f"
             ],
             [
              0.2222222222222222,
              "#7201a8"
             ],
             [
              0.3333333333333333,
              "#9c179e"
             ],
             [
              0.4444444444444444,
              "#bd3786"
             ],
             [
              0.5555555555555556,
              "#d8576b"
             ],
             [
              0.6666666666666666,
              "#ed7953"
             ],
             [
              0.7777777777777778,
              "#fb9f3a"
             ],
             [
              0.8888888888888888,
              "#fdca26"
             ],
             [
              1,
              "#f0f921"
             ]
            ],
            "type": "heatmap"
           }
          ],
          "heatmapgl": [
           {
            "colorbar": {
             "outlinewidth": 0,
             "ticks": ""
            },
            "colorscale": [
             [
              0,
              "#0d0887"
             ],
             [
              0.1111111111111111,
              "#46039f"
             ],
             [
              0.2222222222222222,
              "#7201a8"
             ],
             [
              0.3333333333333333,
              "#9c179e"
             ],
             [
              0.4444444444444444,
              "#bd3786"
             ],
             [
              0.5555555555555556,
              "#d8576b"
             ],
             [
              0.6666666666666666,
              "#ed7953"
             ],
             [
              0.7777777777777778,
              "#fb9f3a"
             ],
             [
              0.8888888888888888,
              "#fdca26"
             ],
             [
              1,
              "#f0f921"
             ]
            ],
            "type": "heatmapgl"
           }
          ],
          "histogram": [
           {
            "marker": {
             "pattern": {
              "fillmode": "overlay",
              "size": 10,
              "solidity": 0.2
             }
            },
            "type": "histogram"
           }
          ],
          "histogram2d": [
           {
            "colorbar": {
             "outlinewidth": 0,
             "ticks": ""
            },
            "colorscale": [
             [
              0,
              "#0d0887"
             ],
             [
              0.1111111111111111,
              "#46039f"
             ],
             [
              0.2222222222222222,
              "#7201a8"
             ],
             [
              0.3333333333333333,
              "#9c179e"
             ],
             [
              0.4444444444444444,
              "#bd3786"
             ],
             [
              0.5555555555555556,
              "#d8576b"
             ],
             [
              0.6666666666666666,
              "#ed7953"
             ],
             [
              0.7777777777777778,
              "#fb9f3a"
             ],
             [
              0.8888888888888888,
              "#fdca26"
             ],
             [
              1,
              "#f0f921"
             ]
            ],
            "type": "histogram2d"
           }
          ],
          "histogram2dcontour": [
           {
            "colorbar": {
             "outlinewidth": 0,
             "ticks": ""
            },
            "colorscale": [
             [
              0,
              "#0d0887"
             ],
             [
              0.1111111111111111,
              "#46039f"
             ],
             [
              0.2222222222222222,
              "#7201a8"
             ],
             [
              0.3333333333333333,
              "#9c179e"
             ],
             [
              0.4444444444444444,
              "#bd3786"
             ],
             [
              0.5555555555555556,
              "#d8576b"
             ],
             [
              0.6666666666666666,
              "#ed7953"
             ],
             [
              0.7777777777777778,
              "#fb9f3a"
             ],
             [
              0.8888888888888888,
              "#fdca26"
             ],
             [
              1,
              "#f0f921"
             ]
            ],
            "type": "histogram2dcontour"
           }
          ],
          "mesh3d": [
           {
            "colorbar": {
             "outlinewidth": 0,
             "ticks": ""
            },
            "type": "mesh3d"
           }
          ],
          "parcoords": [
           {
            "line": {
             "colorbar": {
              "outlinewidth": 0,
              "ticks": ""
             }
            },
            "type": "parcoords"
           }
          ],
          "pie": [
           {
            "automargin": true,
            "type": "pie"
           }
          ],
          "scatter": [
           {
            "fillpattern": {
             "fillmode": "overlay",
             "size": 10,
             "solidity": 0.2
            },
            "type": "scatter"
           }
          ],
          "scatter3d": [
           {
            "line": {
             "colorbar": {
              "outlinewidth": 0,
              "ticks": ""
             }
            },
            "marker": {
             "colorbar": {
              "outlinewidth": 0,
              "ticks": ""
             }
            },
            "type": "scatter3d"
           }
          ],
          "scattercarpet": [
           {
            "marker": {
             "colorbar": {
              "outlinewidth": 0,
              "ticks": ""
             }
            },
            "type": "scattercarpet"
           }
          ],
          "scattergeo": [
           {
            "marker": {
             "colorbar": {
              "outlinewidth": 0,
              "ticks": ""
             }
            },
            "type": "scattergeo"
           }
          ],
          "scattergl": [
           {
            "marker": {
             "colorbar": {
              "outlinewidth": 0,
              "ticks": ""
             }
            },
            "type": "scattergl"
           }
          ],
          "scattermapbox": [
           {
            "marker": {
             "colorbar": {
              "outlinewidth": 0,
              "ticks": ""
             }
            },
            "type": "scattermapbox"
           }
          ],
          "scatterpolar": [
           {
            "marker": {
             "colorbar": {
              "outlinewidth": 0,
              "ticks": ""
             }
            },
            "type": "scatterpolar"
           }
          ],
          "scatterpolargl": [
           {
            "marker": {
             "colorbar": {
              "outlinewidth": 0,
              "ticks": ""
             }
            },
            "type": "scatterpolargl"
           }
          ],
          "scatterternary": [
           {
            "marker": {
             "colorbar": {
              "outlinewidth": 0,
              "ticks": ""
             }
            },
            "type": "scatterternary"
           }
          ],
          "surface": [
           {
            "colorbar": {
             "outlinewidth": 0,
             "ticks": ""
            },
            "colorscale": [
             [
              0,
              "#0d0887"
             ],
             [
              0.1111111111111111,
              "#46039f"
             ],
             [
              0.2222222222222222,
              "#7201a8"
             ],
             [
              0.3333333333333333,
              "#9c179e"
             ],
             [
              0.4444444444444444,
              "#bd3786"
             ],
             [
              0.5555555555555556,
              "#d8576b"
             ],
             [
              0.6666666666666666,
              "#ed7953"
             ],
             [
              0.7777777777777778,
              "#fb9f3a"
             ],
             [
              0.8888888888888888,
              "#fdca26"
             ],
             [
              1,
              "#f0f921"
             ]
            ],
            "type": "surface"
           }
          ],
          "table": [
           {
            "cells": {
             "fill": {
              "color": "#EBF0F8"
             },
             "line": {
              "color": "white"
             }
            },
            "header": {
             "fill": {
              "color": "#C8D4E3"
             },
             "line": {
              "color": "white"
             }
            },
            "type": "table"
           }
          ]
         },
         "layout": {
          "annotationdefaults": {
           "arrowcolor": "#2a3f5f",
           "arrowhead": 0,
           "arrowwidth": 1
          },
          "autotypenumbers": "strict",
          "coloraxis": {
           "colorbar": {
            "outlinewidth": 0,
            "ticks": ""
           }
          },
          "colorscale": {
           "diverging": [
            [
             0,
             "#8e0152"
            ],
            [
             0.1,
             "#c51b7d"
            ],
            [
             0.2,
             "#de77ae"
            ],
            [
             0.3,
             "#f1b6da"
            ],
            [
             0.4,
             "#fde0ef"
            ],
            [
             0.5,
             "#f7f7f7"
            ],
            [
             0.6,
             "#e6f5d0"
            ],
            [
             0.7,
             "#b8e186"
            ],
            [
             0.8,
             "#7fbc41"
            ],
            [
             0.9,
             "#4d9221"
            ],
            [
             1,
             "#276419"
            ]
           ],
           "sequential": [
            [
             0,
             "#0d0887"
            ],
            [
             0.1111111111111111,
             "#46039f"
            ],
            [
             0.2222222222222222,
             "#7201a8"
            ],
            [
             0.3333333333333333,
             "#9c179e"
            ],
            [
             0.4444444444444444,
             "#bd3786"
            ],
            [
             0.5555555555555556,
             "#d8576b"
            ],
            [
             0.6666666666666666,
             "#ed7953"
            ],
            [
             0.7777777777777778,
             "#fb9f3a"
            ],
            [
             0.8888888888888888,
             "#fdca26"
            ],
            [
             1,
             "#f0f921"
            ]
           ],
           "sequentialminus": [
            [
             0,
             "#0d0887"
            ],
            [
             0.1111111111111111,
             "#46039f"
            ],
            [
             0.2222222222222222,
             "#7201a8"
            ],
            [
             0.3333333333333333,
             "#9c179e"
            ],
            [
             0.4444444444444444,
             "#bd3786"
            ],
            [
             0.5555555555555556,
             "#d8576b"
            ],
            [
             0.6666666666666666,
             "#ed7953"
            ],
            [
             0.7777777777777778,
             "#fb9f3a"
            ],
            [
             0.8888888888888888,
             "#fdca26"
            ],
            [
             1,
             "#f0f921"
            ]
           ]
          },
          "colorway": [
           "#636efa",
           "#EF553B",
           "#00cc96",
           "#ab63fa",
           "#FFA15A",
           "#19d3f3",
           "#FF6692",
           "#B6E880",
           "#FF97FF",
           "#FECB52"
          ],
          "font": {
           "color": "#2a3f5f"
          },
          "geo": {
           "bgcolor": "white",
           "lakecolor": "white",
           "landcolor": "#E5ECF6",
           "showlakes": true,
           "showland": true,
           "subunitcolor": "white"
          },
          "hoverlabel": {
           "align": "left"
          },
          "hovermode": "closest",
          "mapbox": {
           "style": "light"
          },
          "paper_bgcolor": "white",
          "plot_bgcolor": "#E5ECF6",
          "polar": {
           "angularaxis": {
            "gridcolor": "white",
            "linecolor": "white",
            "ticks": ""
           },
           "bgcolor": "#E5ECF6",
           "radialaxis": {
            "gridcolor": "white",
            "linecolor": "white",
            "ticks": ""
           }
          },
          "scene": {
           "xaxis": {
            "backgroundcolor": "#E5ECF6",
            "gridcolor": "white",
            "gridwidth": 2,
            "linecolor": "white",
            "showbackground": true,
            "ticks": "",
            "zerolinecolor": "white"
           },
           "yaxis": {
            "backgroundcolor": "#E5ECF6",
            "gridcolor": "white",
            "gridwidth": 2,
            "linecolor": "white",
            "showbackground": true,
            "ticks": "",
            "zerolinecolor": "white"
           },
           "zaxis": {
            "backgroundcolor": "#E5ECF6",
            "gridcolor": "white",
            "gridwidth": 2,
            "linecolor": "white",
            "showbackground": true,
            "ticks": "",
            "zerolinecolor": "white"
           }
          },
          "shapedefaults": {
           "line": {
            "color": "#2a3f5f"
           }
          },
          "ternary": {
           "aaxis": {
            "gridcolor": "white",
            "linecolor": "white",
            "ticks": ""
           },
           "baxis": {
            "gridcolor": "white",
            "linecolor": "white",
            "ticks": ""
           },
           "bgcolor": "#E5ECF6",
           "caxis": {
            "gridcolor": "white",
            "linecolor": "white",
            "ticks": ""
           }
          },
          "title": {
           "x": 0.05
          },
          "xaxis": {
           "automargin": true,
           "gridcolor": "white",
           "linecolor": "white",
           "ticks": "",
           "title": {
            "standoff": 15
           },
           "zerolinecolor": "white",
           "zerolinewidth": 2
          },
          "yaxis": {
           "automargin": true,
           "gridcolor": "white",
           "linecolor": "white",
           "ticks": "",
           "title": {
            "standoff": 15
           },
           "zerolinecolor": "white",
           "zerolinewidth": 2
          }
         }
        },
        "title": {
         "text": "Forecasted Values with Prophet"
        },
        "xaxis": {
         "title": {
          "text": "Date"
         }
        },
        "yaxis": {
         "title": {
          "text": "Forecasted Value"
         }
        }
       }
      },
      "text/html": [
       "<div>                            <div id=\"58b2a319-d9ec-4166-9edb-353a9c03b227\" class=\"plotly-graph-div\" style=\"height:525px; width:100%;\"></div>            <script type=\"text/javascript\">                require([\"plotly\"], function(Plotly) {                    window.PLOTLYENV=window.PLOTLYENV || {};                                    if (document.getElementById(\"58b2a319-d9ec-4166-9edb-353a9c03b227\")) {                    Plotly.newPlot(                        \"58b2a319-d9ec-4166-9edb-353a9c03b227\",                        [{\"line\":{\"color\":\"red\"},\"mode\":\"lines\",\"name\":\"Forecast\",\"x\":[\"2024-08-15T00:00:00\",\"2024-08-16T00:00:00\",\"2024-08-17T00:00:00\",\"2024-08-18T00:00:00\",\"2024-08-19T00:00:00\",\"2024-08-20T00:00:00\",\"2024-08-21T00:00:00\",\"2024-08-22T00:00:00\",\"2024-08-23T00:00:00\",\"2024-08-24T00:00:00\",\"2024-08-25T00:00:00\",\"2024-08-26T00:00:00\",\"2024-08-27T00:00:00\",\"2024-08-28T00:00:00\",\"2024-08-29T00:00:00\",\"2024-08-30T00:00:00\",\"2024-08-31T00:00:00\",\"2024-09-01T00:00:00\",\"2024-09-02T00:00:00\",\"2024-09-03T00:00:00\",\"2024-09-04T00:00:00\",\"2024-09-05T00:00:00\",\"2024-09-06T00:00:00\",\"2024-09-07T00:00:00\",\"2024-09-08T00:00:00\",\"2024-09-09T00:00:00\",\"2024-09-10T00:00:00\",\"2024-09-11T00:00:00\",\"2024-09-12T00:00:00\",\"2024-09-13T00:00:00\",\"2024-09-14T00:00:00\",\"2024-09-15T00:00:00\",\"2024-09-16T00:00:00\",\"2024-09-17T00:00:00\",\"2024-09-18T00:00:00\",\"2024-09-19T00:00:00\",\"2024-09-20T00:00:00\",\"2024-09-21T00:00:00\",\"2024-09-22T00:00:00\",\"2024-09-23T00:00:00\",\"2024-09-24T00:00:00\",\"2024-09-25T00:00:00\",\"2024-09-26T00:00:00\",\"2024-09-27T00:00:00\",\"2024-09-28T00:00:00\",\"2024-09-29T00:00:00\",\"2024-09-30T00:00:00\",\"2024-10-01T00:00:00\",\"2024-10-02T00:00:00\",\"2024-10-03T00:00:00\",\"2024-10-04T00:00:00\",\"2024-10-05T00:00:00\",\"2024-10-06T00:00:00\",\"2024-10-07T00:00:00\",\"2024-10-08T00:00:00\",\"2024-10-09T00:00:00\",\"2024-10-10T00:00:00\",\"2024-10-11T00:00:00\",\"2024-10-12T00:00:00\",\"2024-10-13T00:00:00\",\"2024-10-14T00:00:00\",\"2024-10-15T00:00:00\",\"2024-10-16T00:00:00\",\"2024-10-17T00:00:00\",\"2024-10-18T00:00:00\",\"2024-10-19T00:00:00\",\"2024-10-20T00:00:00\",\"2024-10-21T00:00:00\",\"2024-10-22T00:00:00\",\"2024-10-23T00:00:00\",\"2024-10-24T00:00:00\",\"2024-10-25T00:00:00\",\"2024-10-26T00:00:00\",\"2024-10-27T00:00:00\",\"2024-10-28T00:00:00\",\"2024-10-29T00:00:00\",\"2024-10-30T00:00:00\",\"2024-10-31T00:00:00\"],\"y\":[21972.75466024528,22459.988533660835,17963.633024556213,16323.424979714844,20715.727945684812,30252.37926253293,21248.33660337508,26782.863623024765,20793.51420816715,14372.508653968642,16456.62806568177,17148.96874565244,32244.701680932594,18172.382149255867,23064.22916482214,22344.44207789152,19831.876941399496,17061.336910463546,22767.26829401745,16692.758817737118,19035.3645190371,18552.73111576672,20170.023996429296,21364.79302715976,14918.74392556099,20589.24665717049,30576.192515958217,16053.87042626677,21811.587601575477,16092.239744956154,19713.989979245252,14672.671035864296,24457.28381084102,17229.715475873327,16401.24152534718,25895.276039400487,15440.79413372069,18498.5800313876,14186.90377909111,31459.45041050035,23646.48726068751,24846.325150809447,15114.74597127956,18053.29522868447,13394.679551449131,14417.415886422023,23728.43277607223,24686.823397221106,20785.262326970056,23794.380855651336,15795.351651592318,16184.23689225431,18066.664649264654,25195.101127325655,21815.82520825959,25570.546516335722,23752.34791939976,17327.880581556128,19034.139172099836,14997.915597511881,19923.239845799915,24041.819531227302,19252.145813740783,20918.137606078653,23451.338663914354,17259.013100438606,17591.985606958853,21909.843822687024,21702.450974757176,20626.824629676306,13624.748864049787,16417.511856920257,15352.810319799257,20893.595060838255,19223.44050365537,19564.172790596862,19474.98316046033,16035.920988761882],\"type\":\"scatter\"},{\"line\":{\"color\":\"red\",\"dash\":\"dash\"},\"mode\":\"lines\",\"name\":\"Upper Bound\",\"x\":[\"2024-08-15T00:00:00\",\"2024-08-16T00:00:00\",\"2024-08-17T00:00:00\",\"2024-08-18T00:00:00\",\"2024-08-19T00:00:00\",\"2024-08-20T00:00:00\",\"2024-08-21T00:00:00\",\"2024-08-22T00:00:00\",\"2024-08-23T00:00:00\",\"2024-08-24T00:00:00\",\"2024-08-25T00:00:00\",\"2024-08-26T00:00:00\",\"2024-08-27T00:00:00\",\"2024-08-28T00:00:00\",\"2024-08-29T00:00:00\",\"2024-08-30T00:00:00\",\"2024-08-31T00:00:00\",\"2024-09-01T00:00:00\",\"2024-09-02T00:00:00\",\"2024-09-03T00:00:00\",\"2024-09-04T00:00:00\",\"2024-09-05T00:00:00\",\"2024-09-06T00:00:00\",\"2024-09-07T00:00:00\",\"2024-09-08T00:00:00\",\"2024-09-09T00:00:00\",\"2024-09-10T00:00:00\",\"2024-09-11T00:00:00\",\"2024-09-12T00:00:00\",\"2024-09-13T00:00:00\",\"2024-09-14T00:00:00\",\"2024-09-15T00:00:00\",\"2024-09-16T00:00:00\",\"2024-09-17T00:00:00\",\"2024-09-18T00:00:00\",\"2024-09-19T00:00:00\",\"2024-09-20T00:00:00\",\"2024-09-21T00:00:00\",\"2024-09-22T00:00:00\",\"2024-09-23T00:00:00\",\"2024-09-24T00:00:00\",\"2024-09-25T00:00:00\",\"2024-09-26T00:00:00\",\"2024-09-27T00:00:00\",\"2024-09-28T00:00:00\",\"2024-09-29T00:00:00\",\"2024-09-30T00:00:00\",\"2024-10-01T00:00:00\",\"2024-10-02T00:00:00\",\"2024-10-03T00:00:00\",\"2024-10-04T00:00:00\",\"2024-10-05T00:00:00\",\"2024-10-06T00:00:00\",\"2024-10-07T00:00:00\",\"2024-10-08T00:00:00\",\"2024-10-09T00:00:00\",\"2024-10-10T00:00:00\",\"2024-10-11T00:00:00\",\"2024-10-12T00:00:00\",\"2024-10-13T00:00:00\",\"2024-10-14T00:00:00\",\"2024-10-15T00:00:00\",\"2024-10-16T00:00:00\",\"2024-10-17T00:00:00\",\"2024-10-18T00:00:00\",\"2024-10-19T00:00:00\",\"2024-10-20T00:00:00\",\"2024-10-21T00:00:00\",\"2024-10-22T00:00:00\",\"2024-10-23T00:00:00\",\"2024-10-24T00:00:00\",\"2024-10-25T00:00:00\",\"2024-10-26T00:00:00\",\"2024-10-27T00:00:00\",\"2024-10-28T00:00:00\",\"2024-10-29T00:00:00\",\"2024-10-30T00:00:00\",\"2024-10-31T00:00:00\"],\"y\":[25796.38751447771,26011.457638033822,21618.941977800503,19817.076284332477,24211.66625561454,34072.98446254115,24953.18729928626,30422.316088897,24588.947298402232,17882.563833662214,19897.86598142732,20721.843937827925,35882.58671674909,21728.490031461584,26833.324351269453,25921.310280679463,23540.99071424337,20790.074155669074,26285.844111285413,20437.590145688962,22854.666409944166,22080.52155269329,23807.389445332796,24824.175261912813,18667.265205419848,24420.9753906343,34558.416835345175,19373.143418541298,25299.872415391197,19710.02591949648,23584.20514004759,18110.954053831305,28078.264481251284,20925.844477359602,19945.453942917164,29438.61462881471,18882.26203949786,21852.44241404574,17782.500213011466,34968.47715806792,27515.237728088425,28496.401994402353,18639.162794443317,21522.2423869284,16983.052901372455,17951.0008773231,27342.902111610954,28352.646829678568,24535.25284534143,27208.249782674422,19428.00543322011,19893.596620664463,21820.356379456887,28917.91338134865,25453.672204090457,29380.50647287112,27596.491323566817,21339.719164363545,22689.475184051702,18543.11461317997,23565.103876610738,27457.220823543,22972.344033146415,24413.118939955944,27204.26612599859,20631.692164939177,21310.40843703336,25465.915759051513,25386.744420107156,24236.812147156274,17433.558746558156,19908.832212162262,18747.365046716593,24897.79351152785,22953.488516420985,23149.206426847017,23219.16217033927,19400.27637074455],\"type\":\"scatter\"},{\"fill\":\"tonexty\",\"line\":{\"color\":\"red\",\"dash\":\"dash\"},\"mode\":\"lines\",\"name\":\"Lower Bound\",\"x\":[\"2024-08-15T00:00:00\",\"2024-08-16T00:00:00\",\"2024-08-17T00:00:00\",\"2024-08-18T00:00:00\",\"2024-08-19T00:00:00\",\"2024-08-20T00:00:00\",\"2024-08-21T00:00:00\",\"2024-08-22T00:00:00\",\"2024-08-23T00:00:00\",\"2024-08-24T00:00:00\",\"2024-08-25T00:00:00\",\"2024-08-26T00:00:00\",\"2024-08-27T00:00:00\",\"2024-08-28T00:00:00\",\"2024-08-29T00:00:00\",\"2024-08-30T00:00:00\",\"2024-08-31T00:00:00\",\"2024-09-01T00:00:00\",\"2024-09-02T00:00:00\",\"2024-09-03T00:00:00\",\"2024-09-04T00:00:00\",\"2024-09-05T00:00:00\",\"2024-09-06T00:00:00\",\"2024-09-07T00:00:00\",\"2024-09-08T00:00:00\",\"2024-09-09T00:00:00\",\"2024-09-10T00:00:00\",\"2024-09-11T00:00:00\",\"2024-09-12T00:00:00\",\"2024-09-13T00:00:00\",\"2024-09-14T00:00:00\",\"2024-09-15T00:00:00\",\"2024-09-16T00:00:00\",\"2024-09-17T00:00:00\",\"2024-09-18T00:00:00\",\"2024-09-19T00:00:00\",\"2024-09-20T00:00:00\",\"2024-09-21T00:00:00\",\"2024-09-22T00:00:00\",\"2024-09-23T00:00:00\",\"2024-09-24T00:00:00\",\"2024-09-25T00:00:00\",\"2024-09-26T00:00:00\",\"2024-09-27T00:00:00\",\"2024-09-28T00:00:00\",\"2024-09-29T00:00:00\",\"2024-09-30T00:00:00\",\"2024-10-01T00:00:00\",\"2024-10-02T00:00:00\",\"2024-10-03T00:00:00\",\"2024-10-04T00:00:00\",\"2024-10-05T00:00:00\",\"2024-10-06T00:00:00\",\"2024-10-07T00:00:00\",\"2024-10-08T00:00:00\",\"2024-10-09T00:00:00\",\"2024-10-10T00:00:00\",\"2024-10-11T00:00:00\",\"2024-10-12T00:00:00\",\"2024-10-13T00:00:00\",\"2024-10-14T00:00:00\",\"2024-10-15T00:00:00\",\"2024-10-16T00:00:00\",\"2024-10-17T00:00:00\",\"2024-10-18T00:00:00\",\"2024-10-19T00:00:00\",\"2024-10-20T00:00:00\",\"2024-10-21T00:00:00\",\"2024-10-22T00:00:00\",\"2024-10-23T00:00:00\",\"2024-10-24T00:00:00\",\"2024-10-25T00:00:00\",\"2024-10-26T00:00:00\",\"2024-10-27T00:00:00\",\"2024-10-28T00:00:00\",\"2024-10-29T00:00:00\",\"2024-10-30T00:00:00\",\"2024-10-31T00:00:00\"],\"y\":[18363.565308419107,18758.859505653425,14164.64397199556,12737.200190484047,16961.437459510995,26505.88155515361,17844.362378518792,22817.904558687795,17317.068300703242,10543.858030519652,12548.161889619414,13452.366319671797,28639.319079160952,14494.471862060516,19420.630571925078,18632.86092664141,16481.78663740518,13381.489867995218,18955.266379794815,12927.152714652419,15391.679344928114,14992.858585566906,16338.360114936839,17556.60838033192,11420.443834141439,17086.197312502885,26830.458365369817,12244.010542925758,18117.776164566174,12640.738983220052,16176.82415021356,11105.62970324197,20697.222482419707,13235.75216619718,12558.04788988818,22238.126019998603,11766.930550941763,14908.259127003592,10218.649029900262,27960.629336666487,19705.61424755449,21409.7420208702,11368.239029648685,14253.817783123572,9618.427200065133,10799.32425443768,20250.88949433639,20969.428525203468,17295.121161573246,19822.81417280152,12106.928206503158,12440.09310466648,14522.21612319403,21577.228488368375,18249.790844714415,21802.794462046637,20153.567889748883,13986.624599957933,15599.094556120857,11424.653739453443,16429.07346552841,20203.451550085163,15715.751287701389,17133.90670630627,19580.5540078758,13741.542086009991,13989.11230191312,18382.38289921231,18061.847269932612,16936.84246524931,10097.652698627051,12833.29289362643,11868.556218715372,17232.910404025642,15569.723812837598,15888.996316158544,15730.29942410911,12470.239856782373],\"type\":\"scatter\"}],                        {\"template\":{\"data\":{\"histogram2dcontour\":[{\"type\":\"histogram2dcontour\",\"colorbar\":{\"outlinewidth\":0,\"ticks\":\"\"},\"colorscale\":[[0.0,\"#0d0887\"],[0.1111111111111111,\"#46039f\"],[0.2222222222222222,\"#7201a8\"],[0.3333333333333333,\"#9c179e\"],[0.4444444444444444,\"#bd3786\"],[0.5555555555555556,\"#d8576b\"],[0.6666666666666666,\"#ed7953\"],[0.7777777777777778,\"#fb9f3a\"],[0.8888888888888888,\"#fdca26\"],[1.0,\"#f0f921\"]]}],\"choropleth\":[{\"type\":\"choropleth\",\"colorbar\":{\"outlinewidth\":0,\"ticks\":\"\"}}],\"histogram2d\":[{\"type\":\"histogram2d\",\"colorbar\":{\"outlinewidth\":0,\"ticks\":\"\"},\"colorscale\":[[0.0,\"#0d0887\"],[0.1111111111111111,\"#46039f\"],[0.2222222222222222,\"#7201a8\"],[0.3333333333333333,\"#9c179e\"],[0.4444444444444444,\"#bd3786\"],[0.5555555555555556,\"#d8576b\"],[0.6666666666666666,\"#ed7953\"],[0.7777777777777778,\"#fb9f3a\"],[0.8888888888888888,\"#fdca26\"],[1.0,\"#f0f921\"]]}],\"heatmap\":[{\"type\":\"heatmap\",\"colorbar\":{\"outlinewidth\":0,\"ticks\":\"\"},\"colorscale\":[[0.0,\"#0d0887\"],[0.1111111111111111,\"#46039f\"],[0.2222222222222222,\"#7201a8\"],[0.3333333333333333,\"#9c179e\"],[0.4444444444444444,\"#bd3786\"],[0.5555555555555556,\"#d8576b\"],[0.6666666666666666,\"#ed7953\"],[0.7777777777777778,\"#fb9f3a\"],[0.8888888888888888,\"#fdca26\"],[1.0,\"#f0f921\"]]}],\"heatmapgl\":[{\"type\":\"heatmapgl\",\"colorbar\":{\"outlinewidth\":0,\"ticks\":\"\"},\"colorscale\":[[0.0,\"#0d0887\"],[0.1111111111111111,\"#46039f\"],[0.2222222222222222,\"#7201a8\"],[0.3333333333333333,\"#9c179e\"],[0.4444444444444444,\"#bd3786\"],[0.5555555555555556,\"#d8576b\"],[0.6666666666666666,\"#ed7953\"],[0.7777777777777778,\"#fb9f3a\"],[0.8888888888888888,\"#fdca26\"],[1.0,\"#f0f921\"]]}],\"contourcarpet\":[{\"type\":\"contourcarpet\",\"colorbar\":{\"outlinewidth\":0,\"ticks\":\"\"}}],\"contour\":[{\"type\":\"contour\",\"colorbar\":{\"outlinewidth\":0,\"ticks\":\"\"},\"colorscale\":[[0.0,\"#0d0887\"],[0.1111111111111111,\"#46039f\"],[0.2222222222222222,\"#7201a8\"],[0.3333333333333333,\"#9c179e\"],[0.4444444444444444,\"#bd3786\"],[0.5555555555555556,\"#d8576b\"],[0.6666666666666666,\"#ed7953\"],[0.7777777777777778,\"#fb9f3a\"],[0.8888888888888888,\"#fdca26\"],[1.0,\"#f0f921\"]]}],\"surface\":[{\"type\":\"surface\",\"colorbar\":{\"outlinewidth\":0,\"ticks\":\"\"},\"colorscale\":[[0.0,\"#0d0887\"],[0.1111111111111111,\"#46039f\"],[0.2222222222222222,\"#7201a8\"],[0.3333333333333333,\"#9c179e\"],[0.4444444444444444,\"#bd3786\"],[0.5555555555555556,\"#d8576b\"],[0.6666666666666666,\"#ed7953\"],[0.7777777777777778,\"#fb9f3a\"],[0.8888888888888888,\"#fdca26\"],[1.0,\"#f0f921\"]]}],\"mesh3d\":[{\"type\":\"mesh3d\",\"colorbar\":{\"outlinewidth\":0,\"ticks\":\"\"}}],\"scatter\":[{\"fillpattern\":{\"fillmode\":\"overlay\",\"size\":10,\"solidity\":0.2},\"type\":\"scatter\"}],\"parcoords\":[{\"type\":\"parcoords\",\"line\":{\"colorbar\":{\"outlinewidth\":0,\"ticks\":\"\"}}}],\"scatterpolargl\":[{\"type\":\"scatterpolargl\",\"marker\":{\"colorbar\":{\"outlinewidth\":0,\"ticks\":\"\"}}}],\"bar\":[{\"error_x\":{\"color\":\"#2a3f5f\"},\"error_y\":{\"color\":\"#2a3f5f\"},\"marker\":{\"line\":{\"color\":\"#E5ECF6\",\"width\":0.5},\"pattern\":{\"fillmode\":\"overlay\",\"size\":10,\"solidity\":0.2}},\"type\":\"bar\"}],\"scattergeo\":[{\"type\":\"scattergeo\",\"marker\":{\"colorbar\":{\"outlinewidth\":0,\"ticks\":\"\"}}}],\"scatterpolar\":[{\"type\":\"scatterpolar\",\"marker\":{\"colorbar\":{\"outlinewidth\":0,\"ticks\":\"\"}}}],\"histogram\":[{\"marker\":{\"pattern\":{\"fillmode\":\"overlay\",\"size\":10,\"solidity\":0.2}},\"type\":\"histogram\"}],\"scattergl\":[{\"type\":\"scattergl\",\"marker\":{\"colorbar\":{\"outlinewidth\":0,\"ticks\":\"\"}}}],\"scatter3d\":[{\"type\":\"scatter3d\",\"line\":{\"colorbar\":{\"outlinewidth\":0,\"ticks\":\"\"}},\"marker\":{\"colorbar\":{\"outlinewidth\":0,\"ticks\":\"\"}}}],\"scattermapbox\":[{\"type\":\"scattermapbox\",\"marker\":{\"colorbar\":{\"outlinewidth\":0,\"ticks\":\"\"}}}],\"scatterternary\":[{\"type\":\"scatterternary\",\"marker\":{\"colorbar\":{\"outlinewidth\":0,\"ticks\":\"\"}}}],\"scattercarpet\":[{\"type\":\"scattercarpet\",\"marker\":{\"colorbar\":{\"outlinewidth\":0,\"ticks\":\"\"}}}],\"carpet\":[{\"aaxis\":{\"endlinecolor\":\"#2a3f5f\",\"gridcolor\":\"white\",\"linecolor\":\"white\",\"minorgridcolor\":\"white\",\"startlinecolor\":\"#2a3f5f\"},\"baxis\":{\"endlinecolor\":\"#2a3f5f\",\"gridcolor\":\"white\",\"linecolor\":\"white\",\"minorgridcolor\":\"white\",\"startlinecolor\":\"#2a3f5f\"},\"type\":\"carpet\"}],\"table\":[{\"cells\":{\"fill\":{\"color\":\"#EBF0F8\"},\"line\":{\"color\":\"white\"}},\"header\":{\"fill\":{\"color\":\"#C8D4E3\"},\"line\":{\"color\":\"white\"}},\"type\":\"table\"}],\"barpolar\":[{\"marker\":{\"line\":{\"color\":\"#E5ECF6\",\"width\":0.5},\"pattern\":{\"fillmode\":\"overlay\",\"size\":10,\"solidity\":0.2}},\"type\":\"barpolar\"}],\"pie\":[{\"automargin\":true,\"type\":\"pie\"}]},\"layout\":{\"autotypenumbers\":\"strict\",\"colorway\":[\"#636efa\",\"#EF553B\",\"#00cc96\",\"#ab63fa\",\"#FFA15A\",\"#19d3f3\",\"#FF6692\",\"#B6E880\",\"#FF97FF\",\"#FECB52\"],\"font\":{\"color\":\"#2a3f5f\"},\"hovermode\":\"closest\",\"hoverlabel\":{\"align\":\"left\"},\"paper_bgcolor\":\"white\",\"plot_bgcolor\":\"#E5ECF6\",\"polar\":{\"bgcolor\":\"#E5ECF6\",\"angularaxis\":{\"gridcolor\":\"white\",\"linecolor\":\"white\",\"ticks\":\"\"},\"radialaxis\":{\"gridcolor\":\"white\",\"linecolor\":\"white\",\"ticks\":\"\"}},\"ternary\":{\"bgcolor\":\"#E5ECF6\",\"aaxis\":{\"gridcolor\":\"white\",\"linecolor\":\"white\",\"ticks\":\"\"},\"baxis\":{\"gridcolor\":\"white\",\"linecolor\":\"white\",\"ticks\":\"\"},\"caxis\":{\"gridcolor\":\"white\",\"linecolor\":\"white\",\"ticks\":\"\"}},\"coloraxis\":{\"colorbar\":{\"outlinewidth\":0,\"ticks\":\"\"}},\"colorscale\":{\"sequential\":[[0.0,\"#0d0887\"],[0.1111111111111111,\"#46039f\"],[0.2222222222222222,\"#7201a8\"],[0.3333333333333333,\"#9c179e\"],[0.4444444444444444,\"#bd3786\"],[0.5555555555555556,\"#d8576b\"],[0.6666666666666666,\"#ed7953\"],[0.7777777777777778,\"#fb9f3a\"],[0.8888888888888888,\"#fdca26\"],[1.0,\"#f0f921\"]],\"sequentialminus\":[[0.0,\"#0d0887\"],[0.1111111111111111,\"#46039f\"],[0.2222222222222222,\"#7201a8\"],[0.3333333333333333,\"#9c179e\"],[0.4444444444444444,\"#bd3786\"],[0.5555555555555556,\"#d8576b\"],[0.6666666666666666,\"#ed7953\"],[0.7777777777777778,\"#fb9f3a\"],[0.8888888888888888,\"#fdca26\"],[1.0,\"#f0f921\"]],\"diverging\":[[0,\"#8e0152\"],[0.1,\"#c51b7d\"],[0.2,\"#de77ae\"],[0.3,\"#f1b6da\"],[0.4,\"#fde0ef\"],[0.5,\"#f7f7f7\"],[0.6,\"#e6f5d0\"],[0.7,\"#b8e186\"],[0.8,\"#7fbc41\"],[0.9,\"#4d9221\"],[1,\"#276419\"]]},\"xaxis\":{\"gridcolor\":\"white\",\"linecolor\":\"white\",\"ticks\":\"\",\"title\":{\"standoff\":15},\"zerolinecolor\":\"white\",\"automargin\":true,\"zerolinewidth\":2},\"yaxis\":{\"gridcolor\":\"white\",\"linecolor\":\"white\",\"ticks\":\"\",\"title\":{\"standoff\":15},\"zerolinecolor\":\"white\",\"automargin\":true,\"zerolinewidth\":2},\"scene\":{\"xaxis\":{\"backgroundcolor\":\"#E5ECF6\",\"gridcolor\":\"white\",\"linecolor\":\"white\",\"showbackground\":true,\"ticks\":\"\",\"zerolinecolor\":\"white\",\"gridwidth\":2},\"yaxis\":{\"backgroundcolor\":\"#E5ECF6\",\"gridcolor\":\"white\",\"linecolor\":\"white\",\"showbackground\":true,\"ticks\":\"\",\"zerolinecolor\":\"white\",\"gridwidth\":2},\"zaxis\":{\"backgroundcolor\":\"#E5ECF6\",\"gridcolor\":\"white\",\"linecolor\":\"white\",\"showbackground\":true,\"ticks\":\"\",\"zerolinecolor\":\"white\",\"gridwidth\":2}},\"shapedefaults\":{\"line\":{\"color\":\"#2a3f5f\"}},\"annotationdefaults\":{\"arrowcolor\":\"#2a3f5f\",\"arrowhead\":0,\"arrowwidth\":1},\"geo\":{\"bgcolor\":\"white\",\"landcolor\":\"#E5ECF6\",\"subunitcolor\":\"white\",\"showland\":true,\"showlakes\":true,\"lakecolor\":\"white\"},\"title\":{\"x\":0.05},\"mapbox\":{\"style\":\"light\"}}},\"title\":{\"text\":\"Forecasted Values with Prophet\"},\"xaxis\":{\"title\":{\"text\":\"Date\"}},\"yaxis\":{\"title\":{\"text\":\"Forecasted Value\"}},\"legend\":{\"title\":{\"text\":\"Legend\"}}},                        {\"responsive\": true}                    ).then(function(){\n",
       "                            \n",
       "var gd = document.getElementById('58b2a319-d9ec-4166-9edb-353a9c03b227');\n",
       "var x = new MutationObserver(function (mutations, observer) {{\n",
       "        var display = window.getComputedStyle(gd).display;\n",
       "        if (!display || display === 'none') {{\n",
       "            console.log([gd, 'removed!']);\n",
       "            Plotly.purge(gd);\n",
       "            observer.disconnect();\n",
       "        }}\n",
       "}});\n",
       "\n",
       "// Listen for the removal of the full notebook cells\n",
       "var notebookContainer = gd.closest('#notebook-container');\n",
       "if (notebookContainer) {{\n",
       "    x.observe(notebookContainer, {childList: true});\n",
       "}}\n",
       "\n",
       "// Listen for the clearing of the current output cell\n",
       "var outputEl = gd.closest('.output');\n",
       "if (outputEl) {{\n",
       "    x.observe(outputEl, {childList: true});\n",
       "}}\n",
       "\n",
       "                        })                };                });            </script>        </div>"
      ]
     },
     "metadata": {},
     "output_type": "display_data"
    }
   ],
   "source": [
    "import plotly.graph_objects as go\n",
    "\n",
    "# Create the figure\n",
    "fig = go.Figure()\n",
    "\n",
    "# Add forecast line\n",
    "fig.add_trace(go.Scatter(x=forecast['ds'], y=forecast['yhat'], mode='lines', name='Forecast', line=dict(color='red')))\n",
    "\n",
    "# Add uncertainty interval (optional)\n",
    "fig.add_trace(go.Scatter(x=forecast['ds'], y=forecast['yhat_upper'], fill=None, mode='lines', line_color='red', line=dict(dash='dash'), name='Upper Bound'))\n",
    "fig.add_trace(go.Scatter(x=forecast['ds'], y=forecast['yhat_lower'], fill='tonexty', mode='lines', line_color='red', line=dict(dash='dash'), name='Lower Bound'))\n",
    "\n",
    "# Update layout\n",
    "fig.update_layout(title='Forecasted Values with Prophet',\n",
    "                  xaxis_title='Date',\n",
    "                  yaxis_title='Forecasted Value',\n",
    "                  legend_title='Legend')\n",
    "\n",
    "# Show the plot\n",
    "fig.show()\n"
   ]
  },
  {
   "cell_type": "code",
   "execution_count": null,
   "id": "2e607b61",
   "metadata": {},
   "outputs": [],
   "source": []
  }
 ],
 "metadata": {
  "kernelspec": {
   "display_name": "Python 3 (ipykernel)",
   "language": "python",
   "name": "python3"
  },
  "language_info": {
   "codemirror_mode": {
    "name": "ipython",
    "version": 3
   },
   "file_extension": ".py",
   "mimetype": "text/x-python",
   "name": "python",
   "nbconvert_exporter": "python",
   "pygments_lexer": "ipython3",
   "version": "3.12.4"
  }
 },
 "nbformat": 4,
 "nbformat_minor": 5
}
